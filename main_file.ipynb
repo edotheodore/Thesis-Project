{
 "cells": [
  {
   "cell_type": "code",
   "execution_count": 1,
   "metadata": {
    "_cell_guid": "b1076dfc-b9ad-4769-8c92-a6c4dae69d19",
    "_uuid": "8f2839f25d086af736a60e9eeb907d3b93b6e0e5"
   },
   "outputs": [],
   "source": [
    "import numpy as np \n",
    "import pandas as pd \n",
    "import os"
   ]
  },
  {
   "cell_type": "code",
   "execution_count": 2,
   "metadata": {
    "_cell_guid": "79c7e3d0-c299-4dcb-8224-4455121ee9b0",
    "_uuid": "d629ff2d2480ee46fbb7e2d37f6b5fab8052498a"
   },
   "outputs": [],
   "source": [
    "## import libraries\n",
    "\n",
    "import math\n",
    "import matplotlib\n",
    "import json\n",
    "import requests\n",
    "import time\n",
    "import numpy as np\n",
    "import pandas as pd\n",
    "import seaborn as sns\n",
    "import matplotlib.dates as dates\n",
    "import os\n",
    "\n",
    "from datetime import date, datetime, time, timedelta\n",
    "from matplotlib import pyplot as plt\n",
    "from pylab import rcParams\n",
    "from sklearn.linear_model import LinearRegression\n",
    "from sklearn.metrics import mean_squared_error\n",
    "from sklearn.metrics import r2_score\n",
    "from tqdm import tqdm_notebook\n",
    "\n",
    "%matplotlib inline"
   ]
  },
  {
   "cell_type": "code",
   "execution_count": 3,
   "metadata": {},
   "outputs": [],
   "source": [
    "company_name = 'AAPL'\n",
    "token = \"YFl1bfK9zAddFzcsOgenstMkFg3Vl84lb6rtf80vAbQ2yj1ldqM4lv75cE5q\""
   ]
  },
  {
   "cell_type": "code",
   "execution_count": 4,
   "metadata": {},
   "outputs": [],
   "source": [
    "funct = \"history\"\n",
    "sym = \"AAPL\""
   ]
  },
  {
   "cell_type": "code",
   "execution_count": 5,
   "metadata": {},
   "outputs": [],
   "source": [
    "url = (f\"https://api.worldtradingdata.com/api/v1/history?symbol={company_name}&date_from=2015-01-01&sort=newest&api_token={token}\")"
   ]
  },
  {
   "cell_type": "code",
   "execution_count": 6,
   "metadata": {},
   "outputs": [],
   "source": [
    "######### Extract data from the url given ##############\n",
    "\n",
    "#convert response to python json list\n",
    "data = requests.get(url).json()[funct]"
   ]
  },
  {
   "cell_type": "code",
   "execution_count": 7,
   "metadata": {},
   "outputs": [],
   "source": [
    "# Make dataframe from the json file \n",
    "\n",
    "df = pd.DataFrame(data)\n",
    "df = df.T"
   ]
  },
  {
   "cell_type": "code",
   "execution_count": 8,
   "metadata": {},
   "outputs": [
    {
     "data": {
      "text/html": [
       "<div>\n",
       "<style scoped>\n",
       "    .dataframe tbody tr th:only-of-type {\n",
       "        vertical-align: middle;\n",
       "    }\n",
       "\n",
       "    .dataframe tbody tr th {\n",
       "        vertical-align: top;\n",
       "    }\n",
       "\n",
       "    .dataframe thead th {\n",
       "        text-align: right;\n",
       "    }\n",
       "</style>\n",
       "<table border=\"1\" class=\"dataframe\">\n",
       "  <thead>\n",
       "    <tr style=\"text-align: right;\">\n",
       "      <th></th>\n",
       "      <th>open</th>\n",
       "      <th>close</th>\n",
       "      <th>high</th>\n",
       "      <th>low</th>\n",
       "      <th>volume</th>\n",
       "    </tr>\n",
       "  </thead>\n",
       "  <tbody>\n",
       "    <tr>\n",
       "      <th>2015-01-08</th>\n",
       "      <td>109.23</td>\n",
       "      <td>111.89</td>\n",
       "      <td>112.15</td>\n",
       "      <td>108.70</td>\n",
       "      <td>59364547</td>\n",
       "    </tr>\n",
       "    <tr>\n",
       "      <th>2015-01-07</th>\n",
       "      <td>107.20</td>\n",
       "      <td>107.75</td>\n",
       "      <td>108.20</td>\n",
       "      <td>106.70</td>\n",
       "      <td>40105934</td>\n",
       "    </tr>\n",
       "    <tr>\n",
       "      <th>2015-01-06</th>\n",
       "      <td>106.54</td>\n",
       "      <td>106.26</td>\n",
       "      <td>107.43</td>\n",
       "      <td>104.63</td>\n",
       "      <td>65797116</td>\n",
       "    </tr>\n",
       "    <tr>\n",
       "      <th>2015-01-05</th>\n",
       "      <td>108.29</td>\n",
       "      <td>106.25</td>\n",
       "      <td>108.65</td>\n",
       "      <td>105.41</td>\n",
       "      <td>64285491</td>\n",
       "    </tr>\n",
       "    <tr>\n",
       "      <th>2015-01-02</th>\n",
       "      <td>111.39</td>\n",
       "      <td>109.33</td>\n",
       "      <td>111.44</td>\n",
       "      <td>107.35</td>\n",
       "      <td>53204626</td>\n",
       "    </tr>\n",
       "  </tbody>\n",
       "</table>\n",
       "</div>"
      ],
      "text/plain": [
       "              open   close    high     low    volume\n",
       "2015-01-08  109.23  111.89  112.15  108.70  59364547\n",
       "2015-01-07  107.20  107.75  108.20  106.70  40105934\n",
       "2015-01-06  106.54  106.26  107.43  104.63  65797116\n",
       "2015-01-05  108.29  106.25  108.65  105.41  64285491\n",
       "2015-01-02  111.39  109.33  111.44  107.35  53204626"
      ]
     },
     "execution_count": 8,
     "metadata": {},
     "output_type": "execute_result"
    }
   ],
   "source": [
    "df.tail()"
   ]
  },
  {
   "cell_type": "code",
   "execution_count": 9,
   "metadata": {},
   "outputs": [
    {
     "data": {
      "text/html": [
       "<div>\n",
       "<style scoped>\n",
       "    .dataframe tbody tr th:only-of-type {\n",
       "        vertical-align: middle;\n",
       "    }\n",
       "\n",
       "    .dataframe tbody tr th {\n",
       "        vertical-align: top;\n",
       "    }\n",
       "\n",
       "    .dataframe thead th {\n",
       "        text-align: right;\n",
       "    }\n",
       "</style>\n",
       "<table border=\"1\" class=\"dataframe\">\n",
       "  <thead>\n",
       "    <tr style=\"text-align: right;\">\n",
       "      <th></th>\n",
       "      <th>open</th>\n",
       "      <th>close</th>\n",
       "      <th>high</th>\n",
       "      <th>low</th>\n",
       "      <th>volume</th>\n",
       "    </tr>\n",
       "  </thead>\n",
       "  <tbody>\n",
       "    <tr>\n",
       "      <th>2019-10-30</th>\n",
       "      <td>244.76</td>\n",
       "      <td>243.26</td>\n",
       "      <td>245.30</td>\n",
       "      <td>241.21</td>\n",
       "      <td>31130522</td>\n",
       "    </tr>\n",
       "    <tr>\n",
       "      <th>2019-10-29</th>\n",
       "      <td>248.97</td>\n",
       "      <td>243.29</td>\n",
       "      <td>249.75</td>\n",
       "      <td>242.57</td>\n",
       "      <td>35709867</td>\n",
       "    </tr>\n",
       "    <tr>\n",
       "      <th>2019-10-28</th>\n",
       "      <td>247.42</td>\n",
       "      <td>249.05</td>\n",
       "      <td>249.25</td>\n",
       "      <td>246.72</td>\n",
       "      <td>24143241</td>\n",
       "    </tr>\n",
       "    <tr>\n",
       "      <th>2019-10-25</th>\n",
       "      <td>243.16</td>\n",
       "      <td>246.58</td>\n",
       "      <td>246.73</td>\n",
       "      <td>242.88</td>\n",
       "      <td>18369296</td>\n",
       "    </tr>\n",
       "    <tr>\n",
       "      <th>2019-10-24</th>\n",
       "      <td>244.51</td>\n",
       "      <td>243.58</td>\n",
       "      <td>244.80</td>\n",
       "      <td>241.81</td>\n",
       "      <td>17916255</td>\n",
       "    </tr>\n",
       "  </tbody>\n",
       "</table>\n",
       "</div>"
      ],
      "text/plain": [
       "              open   close    high     low    volume\n",
       "2019-10-30  244.76  243.26  245.30  241.21  31130522\n",
       "2019-10-29  248.97  243.29  249.75  242.57  35709867\n",
       "2019-10-28  247.42  249.05  249.25  246.72  24143241\n",
       "2019-10-25  243.16  246.58  246.73  242.88  18369296\n",
       "2019-10-24  244.51  243.58  244.80  241.81  17916255"
      ]
     },
     "execution_count": 9,
     "metadata": {},
     "output_type": "execute_result"
    }
   ],
   "source": [
    "df.head()"
   ]
  },
  {
   "cell_type": "code",
   "execution_count": 10,
   "metadata": {},
   "outputs": [],
   "source": [
    "#convert list to dataframe with columns names and order\n",
    "\n",
    "df = pd.DataFrame(columns=['Date','Open','High','Low','Close'])\n",
    "for k,v in data.items():\n",
    "    date = datetime.strptime(k, '%Y-%m-%d')\n",
    "    data_row = [date.date(),float(v['open']),float(v['high']),\n",
    "                float(v['low']),float(v['close'])]\n",
    "    df.loc[-1,:] = data_row\n",
    "    df.index = df.index + 1"
   ]
  },
  {
   "cell_type": "code",
   "execution_count": 11,
   "metadata": {},
   "outputs": [],
   "source": [
    "# Convert Date column to datetime\n",
    "df.loc[:, 'Date'] = pd.to_datetime(df['Date'],format='%Y-%m-%d')"
   ]
  },
  {
   "cell_type": "code",
   "execution_count": 12,
   "metadata": {},
   "outputs": [],
   "source": [
    "# copy the dataframe to another dataframe\n",
    "\n",
    "dfCopy = df.copy()"
   ]
  },
  {
   "cell_type": "code",
   "execution_count": 13,
   "metadata": {},
   "outputs": [],
   "source": [
    "from pandas.plotting import register_matplotlib_converters\n",
    "register_matplotlib_converters()"
   ]
  },
  {
   "cell_type": "code",
   "execution_count": 14,
   "metadata": {},
   "outputs": [
    {
     "data": {
      "image/png": "[encoded data removed]",
      "text/plain": [
       "<Figure size 1296x648 with 1 Axes>"
      ]
     },
     "metadata": {
      "needs_background": "light"
     },
     "output_type": "display_data"
    }
   ],
   "source": [
    "######### Make the plot with Close value ##########\n",
    "\n",
    "#df = df.astype(float)\n",
    "fig, ax = plt.subplots(figsize=(18, 9))\n",
    "ax.set_title(f'{sym} close value', fontdict={'fontsize': 16, 'fontweight': 'medium'})\n",
    "ax.plot_date(dfCopy['Date'], dfCopy['Close'], 'r-', label='close')\n",
    "#ax.plot_date(df['Date'], df['Close'], 'b-', label='CLOSE')\n",
    "ax.xaxis.set_minor_locator(dates.MonthLocator())\n",
    "ax.xaxis.set_minor_formatter(dates.DateFormatter('%m'))\n",
    "ax.xaxis.grid(True, which=\"minor\")\n",
    "ax.yaxis.grid()\n",
    "ax.xaxis.set_major_locator(dates.YearLocator())\n",
    "ax.xaxis.set_major_formatter(dates.DateFormatter('\\n\\n%m/%Y'))\n",
    "plt.legend(loc=2)\n",
    "#plt.tight_layout()\n",
    "plt.show()"
   ]
  },
  {
   "cell_type": "code",
   "execution_count": 15,
   "metadata": {},
   "outputs": [
    {
     "data": {
      "text/html": [
       "<div>\n",
       "<style scoped>\n",
       "    .dataframe tbody tr th:only-of-type {\n",
       "        vertical-align: middle;\n",
       "    }\n",
       "\n",
       "    .dataframe tbody tr th {\n",
       "        vertical-align: top;\n",
       "    }\n",
       "\n",
       "    .dataframe thead th {\n",
       "        text-align: right;\n",
       "    }\n",
       "</style>\n",
       "<table border=\"1\" class=\"dataframe\">\n",
       "  <thead>\n",
       "    <tr style=\"text-align: right;\">\n",
       "      <th></th>\n",
       "      <th>Date</th>\n",
       "      <th>Open</th>\n",
       "      <th>High</th>\n",
       "      <th>Low</th>\n",
       "      <th>Close</th>\n",
       "    </tr>\n",
       "  </thead>\n",
       "  <tbody>\n",
       "    <tr>\n",
       "      <th>1215</th>\n",
       "      <td>2019-10-30</td>\n",
       "      <td>244.76</td>\n",
       "      <td>245.3</td>\n",
       "      <td>241.21</td>\n",
       "      <td>243.26</td>\n",
       "    </tr>\n",
       "    <tr>\n",
       "      <th>1214</th>\n",
       "      <td>2019-10-29</td>\n",
       "      <td>248.97</td>\n",
       "      <td>249.75</td>\n",
       "      <td>242.57</td>\n",
       "      <td>243.29</td>\n",
       "    </tr>\n",
       "  </tbody>\n",
       "</table>\n",
       "</div>"
      ],
      "text/plain": [
       "           Date    Open    High     Low   Close\n",
       "1215 2019-10-30  244.76   245.3  241.21  243.26\n",
       "1214 2019-10-29  248.97  249.75  242.57  243.29"
      ]
     },
     "execution_count": 15,
     "metadata": {},
     "output_type": "execute_result"
    }
   ],
   "source": [
    "dfCopy.head(2)"
   ]
  },
  {
   "cell_type": "code",
   "execution_count": 16,
   "metadata": {},
   "outputs": [],
   "source": [
    "# make Date as index as index \n",
    "\n",
    "dfCopy.index = dfCopy.Date"
   ]
  },
  {
   "cell_type": "code",
   "execution_count": 17,
   "metadata": {},
   "outputs": [
    {
     "name": "stdout",
     "output_type": "stream",
     "text": [
      "<class 'pandas.core.frame.DataFrame'>\n",
      "DatetimeIndex: 1216 entries, 2019-10-30 to 2015-01-02\n",
      "Data columns (total 5 columns):\n",
      "Date     1216 non-null datetime64[ns]\n",
      "Open     1216 non-null object\n",
      "High     1216 non-null object\n",
      "Low      1216 non-null object\n",
      "Close    1216 non-null object\n",
      "dtypes: datetime64[ns](1), object(4)\n",
      "memory usage: 57.0+ KB\n"
     ]
    }
   ],
   "source": [
    "dfCopy.info()"
   ]
  },
  {
   "cell_type": "code",
   "execution_count": 18,
   "metadata": {},
   "outputs": [],
   "source": [
    "# Taking only Close column with index\n",
    "\n",
    "dfCopy = dfCopy.iloc[::-1]\n",
    "df_f = dfCopy['Close']"
   ]
  },
  {
   "cell_type": "code",
   "execution_count": 19,
   "metadata": {},
   "outputs": [
    {
     "data": {
      "text/plain": [
       "(1216,)"
      ]
     },
     "execution_count": 19,
     "metadata": {},
     "output_type": "execute_result"
    }
   ],
   "source": [
    "df_f.shape"
   ]
  },
  {
   "cell_type": "code",
   "execution_count": 20,
   "metadata": {},
   "outputs": [
    {
     "data": {
      "text/plain": [
       "Date\n",
       "2015-01-02    109.33\n",
       "2015-01-05    106.25\n",
       "Name: Close, dtype: object"
      ]
     },
     "execution_count": 20,
     "metadata": {},
     "output_type": "execute_result"
    }
   ],
   "source": [
    "df_f.head(2)"
   ]
  },
  {
   "cell_type": "markdown",
   "metadata": {},
   "source": [
    "#### Handling missing value"
   ]
  },
  {
   "cell_type": "code",
   "execution_count": 21,
   "metadata": {},
   "outputs": [],
   "source": [
    "### filling with missing value with spline interpolation\n",
    "\n",
    "\n",
    "#df_f = df_f.resample('D')\n",
    "\n",
    "upsampled = dfCopy['Close'].resample('D').interpolate().astype(float)\n",
    "interpolated_1 = upsampled.interpolate(method='spline', order=2).astype(float)"
   ]
  },
  {
   "cell_type": "code",
   "execution_count": 22,
   "metadata": {},
   "outputs": [
    {
     "data": {
      "text/html": [
       "<div>\n",
       "<style scoped>\n",
       "    .dataframe tbody tr th:only-of-type {\n",
       "        vertical-align: middle;\n",
       "    }\n",
       "\n",
       "    .dataframe tbody tr th {\n",
       "        vertical-align: top;\n",
       "    }\n",
       "\n",
       "    .dataframe thead th {\n",
       "        text-align: right;\n",
       "    }\n",
       "</style>\n",
       "<table border=\"1\" class=\"dataframe\">\n",
       "  <thead>\n",
       "    <tr style=\"text-align: right;\">\n",
       "      <th></th>\n",
       "      <th>Close</th>\n",
       "    </tr>\n",
       "    <tr>\n",
       "      <th>Date</th>\n",
       "      <th></th>\n",
       "    </tr>\n",
       "  </thead>\n",
       "  <tbody>\n",
       "    <tr>\n",
       "      <th>2015-01-02</th>\n",
       "      <td>109.330000</td>\n",
       "    </tr>\n",
       "    <tr>\n",
       "      <th>2015-01-03</th>\n",
       "      <td>106.843276</td>\n",
       "    </tr>\n",
       "    <tr>\n",
       "      <th>2015-01-04</th>\n",
       "      <td>105.498112</td>\n",
       "    </tr>\n",
       "    <tr>\n",
       "      <th>2015-01-05</th>\n",
       "      <td>106.250000</td>\n",
       "    </tr>\n",
       "    <tr>\n",
       "      <th>2015-01-06</th>\n",
       "      <td>106.260000</td>\n",
       "    </tr>\n",
       "  </tbody>\n",
       "</table>\n",
       "</div>"
      ],
      "text/plain": [
       "                 Close\n",
       "Date                  \n",
       "2015-01-02  109.330000\n",
       "2015-01-03  106.843276\n",
       "2015-01-04  105.498112\n",
       "2015-01-05  106.250000\n",
       "2015-01-06  106.260000"
      ]
     },
     "execution_count": 22,
     "metadata": {},
     "output_type": "execute_result"
    }
   ],
   "source": [
    "df_final = pd.DataFrame(interpolated_1)\n",
    "df_final.head(5)"
   ]
  },
  {
   "cell_type": "code",
   "execution_count": 23,
   "metadata": {},
   "outputs": [],
   "source": [
    "########## split the dataset with train set and test set\n",
    "\n",
    "df_t = df_final.head(1500)\n",
    "df_test = df_final.tail(258)"
   ]
  },
  {
   "cell_type": "markdown",
   "metadata": {},
   "source": [
    "## LSTM model"
   ]
  },
  {
   "cell_type": "code",
   "execution_count": 24,
   "metadata": {},
   "outputs": [],
   "source": [
    "########## making windows with train data ##############\n",
    "\n",
    "def series_to_supervised(data, n_in=1, n_out=1, dropnan=True):\n",
    "    n_vars = 1 if type(data) is list else data.shape[1]\n",
    "    df = pd.DataFrame(data)\n",
    "    cols, names = list(), list()\n",
    "    # input sequence (t-n, ... t-1)\n",
    "    for i in range(n_in, 0, -1):\n",
    "        cols.append(df.shift(i))\n",
    "        names += [('var%d(t-%d)' % (j+1, i)) for j in range(n_vars)]\n",
    "    # forecast sequence (t, t+1, ... t+n)\n",
    "    for i in range(0, n_out):\n",
    "        cols.append(df.shift(-i))\n",
    "        if i == 0:\n",
    "            names += [('var%d(t)' % (j+1)) for j in range(n_vars)]\n",
    "        else:\n",
    "            names += [('var%d(t+%d)' % (j+1, i)) for j in range(n_vars)]\n",
    "    # put it all together\n",
    "    agg = pd.concat(cols, axis=1)\n",
    "    agg.columns = names\n",
    "    # drop rows with NaN values\n",
    "    if dropnan:\n",
    "        agg.dropna(inplace=True)\n",
    "    return agg"
   ]
  },
  {
   "cell_type": "code",
   "execution_count": 25,
   "metadata": {},
   "outputs": [],
   "source": [
    "########## making windows with test data ##############\n",
    "\n",
    "def series_to_supervised_test(data, n_in=1, n_out=1, dropnan=True):\n",
    "    n_vars = 1 if type(data) is list else data.shape[1]\n",
    "    df = pd.DataFrame(data)\n",
    "    cols, names = list(), list()\n",
    "    # input sequence (t-n, ... t-1)\n",
    "    for i in range(n_in-1, -1, -1):\n",
    "        cols.append(df.shift(i))\n",
    "        names += [('var%d(t-%d)' % (j+1, i+1)) for j in range(n_vars)]\n",
    "    agg = pd.concat(cols, axis=1)\n",
    "\n",
    "    agg.columns = names\n",
    "    # drop rows with NaN values\n",
    "    if dropnan:\n",
    "        agg.dropna(inplace=True)\n",
    "    return agg"
   ]
  },
  {
   "cell_type": "code",
   "execution_count": 26,
   "metadata": {},
   "outputs": [],
   "source": [
    "###### forecast lstm output with history data\n",
    "\n",
    "def forecast_lstm(model, X, n_batch):\n",
    "    # reshape input pattern to [samples, timesteps, features]\n",
    "    X = X.reshape(1, 1, len(X))\n",
    "    # make forecast\n",
    "    forecast = model.predict(X, batch_size=n_batch)\n",
    "    # convert to array\n",
    "    return [x for x in forecast[0, :]]"
   ]
  },
  {
   "cell_type": "code",
   "execution_count": 27,
   "metadata": {},
   "outputs": [],
   "source": [
    "########## generate output from lstm \n",
    "\n",
    "def make_forecasts(model, n_batch, test, n_lag, n_seq):\n",
    "    forecasts = list()\n",
    "    for i in range(len(test)):\n",
    "        X, y = test[i, 0:((3*n_lag))], test[i, ((3*n_lag)):]\n",
    "        # make forecast\n",
    "        forecast = forecast_lstm(model, X, n_batch)\n",
    "        # store the forecast\n",
    "        forecasts.append(forecast)\n",
    "    return forecasts"
   ]
  },
  {
   "cell_type": "code",
   "execution_count": 28,
   "metadata": {},
   "outputs": [],
   "source": [
    "###### Making shift to the dataset and calculate cumulative value, rolling mean, rolling standard deviation\n",
    "\n",
    "train_forex_f = df_t.copy()\n",
    "#train_forex_f = train_forex_f.groupby(train_forex_f.index).mean()\n",
    "train_forex_f['daily_return'] = train_forex_f['Close'][:-1].values / train_forex_f['Close'][1:] - 1\n",
    "train_forex_f['Cumulative'] = train_forex_f['daily_return'].cumsum()\n",
    "train_forex_f['rolling_mean'] = train_forex_f['Close'].rolling(2).mean()\n",
    "train_forex_f.loc[train_forex_f.index.min().strftime('%Y-%m-%d')].rolling_mean =0\n",
    "train_forex_f['rolling_stddev'] = train_forex_f['Close'].rolling(2).std()\n",
    "train_forex_f.loc[train_forex_f.index.min().strftime('%Y-%m-%d')].rolling_stddev=0"
   ]
  },
  {
   "cell_type": "code",
   "execution_count": 29,
   "metadata": {},
   "outputs": [
    {
     "data": {
      "text/html": [
       "<div>\n",
       "<style scoped>\n",
       "    .dataframe tbody tr th:only-of-type {\n",
       "        vertical-align: middle;\n",
       "    }\n",
       "\n",
       "    .dataframe tbody tr th {\n",
       "        vertical-align: top;\n",
       "    }\n",
       "\n",
       "    .dataframe thead th {\n",
       "        text-align: right;\n",
       "    }\n",
       "</style>\n",
       "<table border=\"1\" class=\"dataframe\">\n",
       "  <thead>\n",
       "    <tr style=\"text-align: right;\">\n",
       "      <th></th>\n",
       "      <th>Close</th>\n",
       "      <th>daily_return</th>\n",
       "      <th>Cumulative</th>\n",
       "      <th>rolling_mean</th>\n",
       "      <th>rolling_stddev</th>\n",
       "    </tr>\n",
       "    <tr>\n",
       "      <th>Date</th>\n",
       "      <th></th>\n",
       "      <th></th>\n",
       "      <th></th>\n",
       "      <th></th>\n",
       "      <th></th>\n",
       "    </tr>\n",
       "  </thead>\n",
       "  <tbody>\n",
       "    <tr>\n",
       "      <th>2015-01-02</th>\n",
       "      <td>109.330000</td>\n",
       "      <td>NaN</td>\n",
       "      <td>NaN</td>\n",
       "      <td>0.000000</td>\n",
       "      <td>0.000000</td>\n",
       "    </tr>\n",
       "    <tr>\n",
       "      <th>2015-01-03</th>\n",
       "      <td>106.843276</td>\n",
       "      <td>0.023275</td>\n",
       "      <td>0.023275</td>\n",
       "      <td>108.086638</td>\n",
       "      <td>1.758379</td>\n",
       "    </tr>\n",
       "  </tbody>\n",
       "</table>\n",
       "</div>"
      ],
      "text/plain": [
       "                 Close  daily_return  Cumulative  rolling_mean  rolling_stddev\n",
       "Date                                                                          \n",
       "2015-01-02  109.330000           NaN         NaN      0.000000        0.000000\n",
       "2015-01-03  106.843276      0.023275    0.023275    108.086638        1.758379"
      ]
     },
     "execution_count": 29,
     "metadata": {},
     "output_type": "execute_result"
    }
   ],
   "source": [
    "train_forex_f.head(2)"
   ]
  },
  {
   "cell_type": "code",
   "execution_count": 30,
   "metadata": {},
   "outputs": [],
   "source": [
    "######## Also added day and month as the features\n",
    "\n",
    "datadates = train_forex_f.index.values\n",
    "datamonths = pd.Series(data=[pd.to_datetime(x).month for x in datadates], index=datadates, name='month')\n",
    "datadays = pd.Series([pd.to_datetime(x).day for x in datadates], index=datadates, name='day')\n",
    "\n",
    "time_1 = datamonths.to_frame().join(datadays.to_frame())\n"
   ]
  },
  {
   "cell_type": "code",
   "execution_count": 31,
   "metadata": {},
   "outputs": [],
   "source": [
    "data_full = time_1.join(train_forex_f)"
   ]
  },
  {
   "cell_type": "code",
   "execution_count": 32,
   "metadata": {},
   "outputs": [
    {
     "data": {
      "text/html": [
       "<div>\n",
       "<style scoped>\n",
       "    .dataframe tbody tr th:only-of-type {\n",
       "        vertical-align: middle;\n",
       "    }\n",
       "\n",
       "    .dataframe tbody tr th {\n",
       "        vertical-align: top;\n",
       "    }\n",
       "\n",
       "    .dataframe thead th {\n",
       "        text-align: right;\n",
       "    }\n",
       "</style>\n",
       "<table border=\"1\" class=\"dataframe\">\n",
       "  <thead>\n",
       "    <tr style=\"text-align: right;\">\n",
       "      <th></th>\n",
       "      <th>month</th>\n",
       "      <th>day</th>\n",
       "      <th>Close</th>\n",
       "      <th>daily_return</th>\n",
       "      <th>Cumulative</th>\n",
       "      <th>rolling_mean</th>\n",
       "      <th>rolling_stddev</th>\n",
       "    </tr>\n",
       "  </thead>\n",
       "  <tbody>\n",
       "    <tr>\n",
       "      <th>2015-01-02</th>\n",
       "      <td>1</td>\n",
       "      <td>2</td>\n",
       "      <td>109.330000</td>\n",
       "      <td>NaN</td>\n",
       "      <td>NaN</td>\n",
       "      <td>0.000000</td>\n",
       "      <td>0.000000</td>\n",
       "    </tr>\n",
       "    <tr>\n",
       "      <th>2015-01-03</th>\n",
       "      <td>1</td>\n",
       "      <td>3</td>\n",
       "      <td>106.843276</td>\n",
       "      <td>0.023275</td>\n",
       "      <td>0.023275</td>\n",
       "      <td>108.086638</td>\n",
       "      <td>1.758379</td>\n",
       "    </tr>\n",
       "    <tr>\n",
       "      <th>2015-01-04</th>\n",
       "      <td>1</td>\n",
       "      <td>4</td>\n",
       "      <td>105.498112</td>\n",
       "      <td>0.012751</td>\n",
       "      <td>0.036025</td>\n",
       "      <td>106.170694</td>\n",
       "      <td>0.951174</td>\n",
       "    </tr>\n",
       "    <tr>\n",
       "      <th>2015-01-05</th>\n",
       "      <td>1</td>\n",
       "      <td>5</td>\n",
       "      <td>106.250000</td>\n",
       "      <td>-0.007077</td>\n",
       "      <td>0.028949</td>\n",
       "      <td>105.874056</td>\n",
       "      <td>0.531665</td>\n",
       "    </tr>\n",
       "    <tr>\n",
       "      <th>2015-01-06</th>\n",
       "      <td>1</td>\n",
       "      <td>6</td>\n",
       "      <td>106.260000</td>\n",
       "      <td>-0.000094</td>\n",
       "      <td>0.028854</td>\n",
       "      <td>106.255000</td>\n",
       "      <td>0.007071</td>\n",
       "    </tr>\n",
       "  </tbody>\n",
       "</table>\n",
       "</div>"
      ],
      "text/plain": [
       "            month  day       Close  daily_return  Cumulative  rolling_mean  \\\n",
       "2015-01-02      1    2  109.330000           NaN         NaN      0.000000   \n",
       "2015-01-03      1    3  106.843276      0.023275    0.023275    108.086638   \n",
       "2015-01-04      1    4  105.498112      0.012751    0.036025    106.170694   \n",
       "2015-01-05      1    5  106.250000     -0.007077    0.028949    105.874056   \n",
       "2015-01-06      1    6  106.260000     -0.000094    0.028854    106.255000   \n",
       "\n",
       "            rolling_stddev  \n",
       "2015-01-02        0.000000  \n",
       "2015-01-03        1.758379  \n",
       "2015-01-04        0.951174  \n",
       "2015-01-05        0.531665  \n",
       "2015-01-06        0.007071  "
      ]
     },
     "execution_count": 32,
     "metadata": {},
     "output_type": "execute_result"
    }
   ],
   "source": [
    "data_full.head()"
   ]
  },
  {
   "cell_type": "code",
   "execution_count": 33,
   "metadata": {},
   "outputs": [],
   "source": [
    "pd.set_option('display.max_column',100)"
   ]
  },
  {
   "cell_type": "code",
   "execution_count": 34,
   "metadata": {},
   "outputs": [
    {
     "data": {
      "text/html": [
       "<div>\n",
       "<style scoped>\n",
       "    .dataframe tbody tr th:only-of-type {\n",
       "        vertical-align: middle;\n",
       "    }\n",
       "\n",
       "    .dataframe tbody tr th {\n",
       "        vertical-align: top;\n",
       "    }\n",
       "\n",
       "    .dataframe thead th {\n",
       "        text-align: right;\n",
       "    }\n",
       "</style>\n",
       "<table border=\"1\" class=\"dataframe\">\n",
       "  <thead>\n",
       "    <tr style=\"text-align: right;\">\n",
       "      <th></th>\n",
       "      <th>month</th>\n",
       "      <th>day</th>\n",
       "      <th>Close</th>\n",
       "      <th>daily_return</th>\n",
       "      <th>Cumulative</th>\n",
       "      <th>rolling_mean</th>\n",
       "      <th>rolling_stddev</th>\n",
       "    </tr>\n",
       "  </thead>\n",
       "  <tbody>\n",
       "    <tr>\n",
       "      <th>2015-01-02</th>\n",
       "      <td>1</td>\n",
       "      <td>2</td>\n",
       "      <td>109.330000</td>\n",
       "      <td>NaN</td>\n",
       "      <td>NaN</td>\n",
       "      <td>0.000000</td>\n",
       "      <td>0.000000</td>\n",
       "    </tr>\n",
       "    <tr>\n",
       "      <th>2015-01-03</th>\n",
       "      <td>1</td>\n",
       "      <td>3</td>\n",
       "      <td>106.843276</td>\n",
       "      <td>0.023275</td>\n",
       "      <td>0.023275</td>\n",
       "      <td>108.086638</td>\n",
       "      <td>1.758379</td>\n",
       "    </tr>\n",
       "    <tr>\n",
       "      <th>2015-01-04</th>\n",
       "      <td>1</td>\n",
       "      <td>4</td>\n",
       "      <td>105.498112</td>\n",
       "      <td>0.012751</td>\n",
       "      <td>0.036025</td>\n",
       "      <td>106.170694</td>\n",
       "      <td>0.951174</td>\n",
       "    </tr>\n",
       "    <tr>\n",
       "      <th>2015-01-05</th>\n",
       "      <td>1</td>\n",
       "      <td>5</td>\n",
       "      <td>106.250000</td>\n",
       "      <td>-0.007077</td>\n",
       "      <td>0.028949</td>\n",
       "      <td>105.874056</td>\n",
       "      <td>0.531665</td>\n",
       "    </tr>\n",
       "    <tr>\n",
       "      <th>2015-01-06</th>\n",
       "      <td>1</td>\n",
       "      <td>6</td>\n",
       "      <td>106.260000</td>\n",
       "      <td>-0.000094</td>\n",
       "      <td>0.028854</td>\n",
       "      <td>106.255000</td>\n",
       "      <td>0.007071</td>\n",
       "    </tr>\n",
       "  </tbody>\n",
       "</table>\n",
       "</div>"
      ],
      "text/plain": [
       "            month  day       Close  daily_return  Cumulative  rolling_mean  \\\n",
       "2015-01-02      1    2  109.330000           NaN         NaN      0.000000   \n",
       "2015-01-03      1    3  106.843276      0.023275    0.023275    108.086638   \n",
       "2015-01-04      1    4  105.498112      0.012751    0.036025    106.170694   \n",
       "2015-01-05      1    5  106.250000     -0.007077    0.028949    105.874056   \n",
       "2015-01-06      1    6  106.260000     -0.000094    0.028854    106.255000   \n",
       "\n",
       "            rolling_stddev  \n",
       "2015-01-02        0.000000  \n",
       "2015-01-03        1.758379  \n",
       "2015-01-04        0.951174  \n",
       "2015-01-05        0.531665  \n",
       "2015-01-06        0.007071  "
      ]
     },
     "execution_count": 34,
     "metadata": {},
     "output_type": "execute_result"
    }
   ],
   "source": [
    "data_full.head(5)"
   ]
  },
  {
   "cell_type": "code",
   "execution_count": 35,
   "metadata": {},
   "outputs": [
    {
     "data": {
      "text/html": [
       "<div>\n",
       "<style scoped>\n",
       "    .dataframe tbody tr th:only-of-type {\n",
       "        vertical-align: middle;\n",
       "    }\n",
       "\n",
       "    .dataframe tbody tr th {\n",
       "        vertical-align: top;\n",
       "    }\n",
       "\n",
       "    .dataframe thead th {\n",
       "        text-align: right;\n",
       "    }\n",
       "</style>\n",
       "<table border=\"1\" class=\"dataframe\">\n",
       "  <thead>\n",
       "    <tr style=\"text-align: right;\">\n",
       "      <th></th>\n",
       "      <th>var1(t-10)</th>\n",
       "      <th>var2(t-10)</th>\n",
       "      <th>var3(t-10)</th>\n",
       "      <th>var4(t-10)</th>\n",
       "      <th>var5(t-10)</th>\n",
       "      <th>var6(t-10)</th>\n",
       "      <th>var7(t-10)</th>\n",
       "      <th>var1(t-9)</th>\n",
       "      <th>var2(t-9)</th>\n",
       "      <th>var3(t-9)</th>\n",
       "      <th>var4(t-9)</th>\n",
       "      <th>var5(t-9)</th>\n",
       "      <th>var6(t-9)</th>\n",
       "      <th>var7(t-9)</th>\n",
       "      <th>var1(t-8)</th>\n",
       "      <th>var2(t-8)</th>\n",
       "      <th>var3(t-8)</th>\n",
       "      <th>var4(t-8)</th>\n",
       "      <th>var5(t-8)</th>\n",
       "      <th>var6(t-8)</th>\n",
       "      <th>var7(t-8)</th>\n",
       "      <th>var1(t-7)</th>\n",
       "      <th>var2(t-7)</th>\n",
       "      <th>var3(t-7)</th>\n",
       "      <th>var4(t-7)</th>\n",
       "      <th>var5(t-7)</th>\n",
       "      <th>var6(t-7)</th>\n",
       "      <th>var7(t-7)</th>\n",
       "      <th>var1(t-6)</th>\n",
       "      <th>var2(t-6)</th>\n",
       "      <th>var3(t-6)</th>\n",
       "      <th>var4(t-6)</th>\n",
       "      <th>var5(t-6)</th>\n",
       "      <th>var6(t-6)</th>\n",
       "      <th>var7(t-6)</th>\n",
       "      <th>var1(t-5)</th>\n",
       "      <th>var2(t-5)</th>\n",
       "      <th>var3(t-5)</th>\n",
       "      <th>var4(t-5)</th>\n",
       "      <th>var5(t-5)</th>\n",
       "      <th>var6(t-5)</th>\n",
       "      <th>var7(t-5)</th>\n",
       "      <th>var1(t-4)</th>\n",
       "      <th>var2(t-4)</th>\n",
       "      <th>var3(t-4)</th>\n",
       "      <th>var4(t-4)</th>\n",
       "      <th>var5(t-4)</th>\n",
       "      <th>var6(t-4)</th>\n",
       "      <th>var7(t-4)</th>\n",
       "      <th>var1(t-3)</th>\n",
       "      <th>var2(t-3)</th>\n",
       "      <th>var3(t-3)</th>\n",
       "      <th>var4(t-3)</th>\n",
       "      <th>var5(t-3)</th>\n",
       "      <th>var6(t-3)</th>\n",
       "      <th>var7(t-3)</th>\n",
       "      <th>var1(t-2)</th>\n",
       "      <th>var2(t-2)</th>\n",
       "      <th>var3(t-2)</th>\n",
       "      <th>var4(t-2)</th>\n",
       "      <th>var5(t-2)</th>\n",
       "      <th>var6(t-2)</th>\n",
       "      <th>var7(t-2)</th>\n",
       "      <th>var1(t-1)</th>\n",
       "      <th>var2(t-1)</th>\n",
       "      <th>var3(t-1)</th>\n",
       "      <th>var4(t-1)</th>\n",
       "      <th>var5(t-1)</th>\n",
       "      <th>var6(t-1)</th>\n",
       "      <th>var7(t-1)</th>\n",
       "      <th>var1(t)</th>\n",
       "      <th>var2(t)</th>\n",
       "      <th>var3(t)</th>\n",
       "      <th>var4(t)</th>\n",
       "      <th>var5(t)</th>\n",
       "      <th>var6(t)</th>\n",
       "      <th>var7(t)</th>\n",
       "    </tr>\n",
       "  </thead>\n",
       "  <tbody>\n",
       "    <tr>\n",
       "      <th>2015-01-13</th>\n",
       "      <td>1.0</td>\n",
       "      <td>3.0</td>\n",
       "      <td>106.843276</td>\n",
       "      <td>0.023275</td>\n",
       "      <td>0.023275</td>\n",
       "      <td>108.086638</td>\n",
       "      <td>1.758379</td>\n",
       "      <td>1.0</td>\n",
       "      <td>4.0</td>\n",
       "      <td>105.498112</td>\n",
       "      <td>0.012751</td>\n",
       "      <td>0.036025</td>\n",
       "      <td>106.170694</td>\n",
       "      <td>0.951174</td>\n",
       "      <td>1.0</td>\n",
       "      <td>5.0</td>\n",
       "      <td>106.25</td>\n",
       "      <td>-0.007077</td>\n",
       "      <td>0.028949</td>\n",
       "      <td>105.874056</td>\n",
       "      <td>0.531665</td>\n",
       "      <td>1.0</td>\n",
       "      <td>6.0</td>\n",
       "      <td>106.260000</td>\n",
       "      <td>-0.000094</td>\n",
       "      <td>0.028854</td>\n",
       "      <td>106.255000</td>\n",
       "      <td>0.007071</td>\n",
       "      <td>1.0</td>\n",
       "      <td>7.0</td>\n",
       "      <td>107.750000</td>\n",
       "      <td>-0.013828</td>\n",
       "      <td>0.015026</td>\n",
       "      <td>107.005000</td>\n",
       "      <td>1.053589</td>\n",
       "      <td>1.0</td>\n",
       "      <td>8.0</td>\n",
       "      <td>111.890000</td>\n",
       "      <td>-0.037001</td>\n",
       "      <td>-0.021975</td>\n",
       "      <td>109.820000</td>\n",
       "      <td>2.927422</td>\n",
       "      <td>1.0</td>\n",
       "      <td>9.0</td>\n",
       "      <td>112.010000</td>\n",
       "      <td>-0.001071</td>\n",
       "      <td>-0.023046</td>\n",
       "      <td>111.950000</td>\n",
       "      <td>0.084853</td>\n",
       "      <td>1.0</td>\n",
       "      <td>10.0</td>\n",
       "      <td>111.163075</td>\n",
       "      <td>0.007619</td>\n",
       "      <td>-0.015427</td>\n",
       "      <td>111.586537</td>\n",
       "      <td>0.598866</td>\n",
       "      <td>1.0</td>\n",
       "      <td>11.0</td>\n",
       "      <td>110.616473</td>\n",
       "      <td>0.004941</td>\n",
       "      <td>-0.010486</td>\n",
       "      <td>110.889774</td>\n",
       "      <td>0.386506</td>\n",
       "      <td>1.0</td>\n",
       "      <td>12.0</td>\n",
       "      <td>109.25</td>\n",
       "      <td>0.012508</td>\n",
       "      <td>0.002022</td>\n",
       "      <td>109.933236</td>\n",
       "      <td>0.966242</td>\n",
       "      <td>1</td>\n",
       "      <td>13</td>\n",
       "      <td>110.220000</td>\n",
       "      <td>-0.008801</td>\n",
       "      <td>-0.006779</td>\n",
       "      <td>109.735000</td>\n",
       "      <td>0.685894</td>\n",
       "    </tr>\n",
       "    <tr>\n",
       "      <th>2015-01-14</th>\n",
       "      <td>1.0</td>\n",
       "      <td>4.0</td>\n",
       "      <td>105.498112</td>\n",
       "      <td>0.012751</td>\n",
       "      <td>0.036025</td>\n",
       "      <td>106.170694</td>\n",
       "      <td>0.951174</td>\n",
       "      <td>1.0</td>\n",
       "      <td>5.0</td>\n",
       "      <td>106.250000</td>\n",
       "      <td>-0.007077</td>\n",
       "      <td>0.028949</td>\n",
       "      <td>105.874056</td>\n",
       "      <td>0.531665</td>\n",
       "      <td>1.0</td>\n",
       "      <td>6.0</td>\n",
       "      <td>106.26</td>\n",
       "      <td>-0.000094</td>\n",
       "      <td>0.028854</td>\n",
       "      <td>106.255000</td>\n",
       "      <td>0.007071</td>\n",
       "      <td>1.0</td>\n",
       "      <td>7.0</td>\n",
       "      <td>107.750000</td>\n",
       "      <td>-0.013828</td>\n",
       "      <td>0.015026</td>\n",
       "      <td>107.005000</td>\n",
       "      <td>1.053589</td>\n",
       "      <td>1.0</td>\n",
       "      <td>8.0</td>\n",
       "      <td>111.890000</td>\n",
       "      <td>-0.037001</td>\n",
       "      <td>-0.021975</td>\n",
       "      <td>109.820000</td>\n",
       "      <td>2.927422</td>\n",
       "      <td>1.0</td>\n",
       "      <td>9.0</td>\n",
       "      <td>112.010000</td>\n",
       "      <td>-0.001071</td>\n",
       "      <td>-0.023046</td>\n",
       "      <td>111.950000</td>\n",
       "      <td>0.084853</td>\n",
       "      <td>1.0</td>\n",
       "      <td>10.0</td>\n",
       "      <td>111.163075</td>\n",
       "      <td>0.007619</td>\n",
       "      <td>-0.015427</td>\n",
       "      <td>111.586537</td>\n",
       "      <td>0.598866</td>\n",
       "      <td>1.0</td>\n",
       "      <td>11.0</td>\n",
       "      <td>110.616473</td>\n",
       "      <td>0.004941</td>\n",
       "      <td>-0.010486</td>\n",
       "      <td>110.889774</td>\n",
       "      <td>0.386506</td>\n",
       "      <td>1.0</td>\n",
       "      <td>12.0</td>\n",
       "      <td>109.250000</td>\n",
       "      <td>0.012508</td>\n",
       "      <td>0.002022</td>\n",
       "      <td>109.933236</td>\n",
       "      <td>0.966242</td>\n",
       "      <td>1.0</td>\n",
       "      <td>13.0</td>\n",
       "      <td>110.22</td>\n",
       "      <td>-0.008801</td>\n",
       "      <td>-0.006779</td>\n",
       "      <td>109.735000</td>\n",
       "      <td>0.685894</td>\n",
       "      <td>1</td>\n",
       "      <td>14</td>\n",
       "      <td>109.800000</td>\n",
       "      <td>0.003825</td>\n",
       "      <td>-0.002953</td>\n",
       "      <td>110.010000</td>\n",
       "      <td>0.296985</td>\n",
       "    </tr>\n",
       "    <tr>\n",
       "      <th>2015-01-15</th>\n",
       "      <td>1.0</td>\n",
       "      <td>5.0</td>\n",
       "      <td>106.250000</td>\n",
       "      <td>-0.007077</td>\n",
       "      <td>0.028949</td>\n",
       "      <td>105.874056</td>\n",
       "      <td>0.531665</td>\n",
       "      <td>1.0</td>\n",
       "      <td>6.0</td>\n",
       "      <td>106.260000</td>\n",
       "      <td>-0.000094</td>\n",
       "      <td>0.028854</td>\n",
       "      <td>106.255000</td>\n",
       "      <td>0.007071</td>\n",
       "      <td>1.0</td>\n",
       "      <td>7.0</td>\n",
       "      <td>107.75</td>\n",
       "      <td>-0.013828</td>\n",
       "      <td>0.015026</td>\n",
       "      <td>107.005000</td>\n",
       "      <td>1.053589</td>\n",
       "      <td>1.0</td>\n",
       "      <td>8.0</td>\n",
       "      <td>111.890000</td>\n",
       "      <td>-0.037001</td>\n",
       "      <td>-0.021975</td>\n",
       "      <td>109.820000</td>\n",
       "      <td>2.927422</td>\n",
       "      <td>1.0</td>\n",
       "      <td>9.0</td>\n",
       "      <td>112.010000</td>\n",
       "      <td>-0.001071</td>\n",
       "      <td>-0.023046</td>\n",
       "      <td>111.950000</td>\n",
       "      <td>0.084853</td>\n",
       "      <td>1.0</td>\n",
       "      <td>10.0</td>\n",
       "      <td>111.163075</td>\n",
       "      <td>0.007619</td>\n",
       "      <td>-0.015427</td>\n",
       "      <td>111.586537</td>\n",
       "      <td>0.598866</td>\n",
       "      <td>1.0</td>\n",
       "      <td>11.0</td>\n",
       "      <td>110.616473</td>\n",
       "      <td>0.004941</td>\n",
       "      <td>-0.010486</td>\n",
       "      <td>110.889774</td>\n",
       "      <td>0.386506</td>\n",
       "      <td>1.0</td>\n",
       "      <td>12.0</td>\n",
       "      <td>109.250000</td>\n",
       "      <td>0.012508</td>\n",
       "      <td>0.002022</td>\n",
       "      <td>109.933236</td>\n",
       "      <td>0.966242</td>\n",
       "      <td>1.0</td>\n",
       "      <td>13.0</td>\n",
       "      <td>110.220000</td>\n",
       "      <td>-0.008801</td>\n",
       "      <td>-0.006779</td>\n",
       "      <td>109.735000</td>\n",
       "      <td>0.685894</td>\n",
       "      <td>1.0</td>\n",
       "      <td>14.0</td>\n",
       "      <td>109.80</td>\n",
       "      <td>0.003825</td>\n",
       "      <td>-0.002953</td>\n",
       "      <td>110.010000</td>\n",
       "      <td>0.296985</td>\n",
       "      <td>1</td>\n",
       "      <td>15</td>\n",
       "      <td>106.820000</td>\n",
       "      <td>0.027897</td>\n",
       "      <td>0.024944</td>\n",
       "      <td>108.310000</td>\n",
       "      <td>2.107178</td>\n",
       "    </tr>\n",
       "    <tr>\n",
       "      <th>2015-01-16</th>\n",
       "      <td>1.0</td>\n",
       "      <td>6.0</td>\n",
       "      <td>106.260000</td>\n",
       "      <td>-0.000094</td>\n",
       "      <td>0.028854</td>\n",
       "      <td>106.255000</td>\n",
       "      <td>0.007071</td>\n",
       "      <td>1.0</td>\n",
       "      <td>7.0</td>\n",
       "      <td>107.750000</td>\n",
       "      <td>-0.013828</td>\n",
       "      <td>0.015026</td>\n",
       "      <td>107.005000</td>\n",
       "      <td>1.053589</td>\n",
       "      <td>1.0</td>\n",
       "      <td>8.0</td>\n",
       "      <td>111.89</td>\n",
       "      <td>-0.037001</td>\n",
       "      <td>-0.021975</td>\n",
       "      <td>109.820000</td>\n",
       "      <td>2.927422</td>\n",
       "      <td>1.0</td>\n",
       "      <td>9.0</td>\n",
       "      <td>112.010000</td>\n",
       "      <td>-0.001071</td>\n",
       "      <td>-0.023046</td>\n",
       "      <td>111.950000</td>\n",
       "      <td>0.084853</td>\n",
       "      <td>1.0</td>\n",
       "      <td>10.0</td>\n",
       "      <td>111.163075</td>\n",
       "      <td>0.007619</td>\n",
       "      <td>-0.015427</td>\n",
       "      <td>111.586537</td>\n",
       "      <td>0.598866</td>\n",
       "      <td>1.0</td>\n",
       "      <td>11.0</td>\n",
       "      <td>110.616473</td>\n",
       "      <td>0.004941</td>\n",
       "      <td>-0.010486</td>\n",
       "      <td>110.889774</td>\n",
       "      <td>0.386506</td>\n",
       "      <td>1.0</td>\n",
       "      <td>12.0</td>\n",
       "      <td>109.250000</td>\n",
       "      <td>0.012508</td>\n",
       "      <td>0.002022</td>\n",
       "      <td>109.933236</td>\n",
       "      <td>0.966242</td>\n",
       "      <td>1.0</td>\n",
       "      <td>13.0</td>\n",
       "      <td>110.220000</td>\n",
       "      <td>-0.008801</td>\n",
       "      <td>-0.006779</td>\n",
       "      <td>109.735000</td>\n",
       "      <td>0.685894</td>\n",
       "      <td>1.0</td>\n",
       "      <td>14.0</td>\n",
       "      <td>109.800000</td>\n",
       "      <td>0.003825</td>\n",
       "      <td>-0.002953</td>\n",
       "      <td>110.010000</td>\n",
       "      <td>0.296985</td>\n",
       "      <td>1.0</td>\n",
       "      <td>15.0</td>\n",
       "      <td>106.82</td>\n",
       "      <td>0.027897</td>\n",
       "      <td>0.024944</td>\n",
       "      <td>108.310000</td>\n",
       "      <td>2.107178</td>\n",
       "      <td>1</td>\n",
       "      <td>16</td>\n",
       "      <td>105.990000</td>\n",
       "      <td>0.007831</td>\n",
       "      <td>0.032775</td>\n",
       "      <td>106.405000</td>\n",
       "      <td>0.586899</td>\n",
       "    </tr>\n",
       "    <tr>\n",
       "      <th>2015-01-17</th>\n",
       "      <td>1.0</td>\n",
       "      <td>7.0</td>\n",
       "      <td>107.750000</td>\n",
       "      <td>-0.013828</td>\n",
       "      <td>0.015026</td>\n",
       "      <td>107.005000</td>\n",
       "      <td>1.053589</td>\n",
       "      <td>1.0</td>\n",
       "      <td>8.0</td>\n",
       "      <td>111.890000</td>\n",
       "      <td>-0.037001</td>\n",
       "      <td>-0.021975</td>\n",
       "      <td>109.820000</td>\n",
       "      <td>2.927422</td>\n",
       "      <td>1.0</td>\n",
       "      <td>9.0</td>\n",
       "      <td>112.01</td>\n",
       "      <td>-0.001071</td>\n",
       "      <td>-0.023046</td>\n",
       "      <td>111.950000</td>\n",
       "      <td>0.084853</td>\n",
       "      <td>1.0</td>\n",
       "      <td>10.0</td>\n",
       "      <td>111.163075</td>\n",
       "      <td>0.007619</td>\n",
       "      <td>-0.015427</td>\n",
       "      <td>111.586537</td>\n",
       "      <td>0.598866</td>\n",
       "      <td>1.0</td>\n",
       "      <td>11.0</td>\n",
       "      <td>110.616473</td>\n",
       "      <td>0.004941</td>\n",
       "      <td>-0.010486</td>\n",
       "      <td>110.889774</td>\n",
       "      <td>0.386506</td>\n",
       "      <td>1.0</td>\n",
       "      <td>12.0</td>\n",
       "      <td>109.250000</td>\n",
       "      <td>0.012508</td>\n",
       "      <td>0.002022</td>\n",
       "      <td>109.933236</td>\n",
       "      <td>0.966242</td>\n",
       "      <td>1.0</td>\n",
       "      <td>13.0</td>\n",
       "      <td>110.220000</td>\n",
       "      <td>-0.008801</td>\n",
       "      <td>-0.006779</td>\n",
       "      <td>109.735000</td>\n",
       "      <td>0.685894</td>\n",
       "      <td>1.0</td>\n",
       "      <td>14.0</td>\n",
       "      <td>109.800000</td>\n",
       "      <td>0.003825</td>\n",
       "      <td>-0.002953</td>\n",
       "      <td>110.010000</td>\n",
       "      <td>0.296985</td>\n",
       "      <td>1.0</td>\n",
       "      <td>15.0</td>\n",
       "      <td>106.820000</td>\n",
       "      <td>0.027897</td>\n",
       "      <td>0.024944</td>\n",
       "      <td>108.310000</td>\n",
       "      <td>2.107178</td>\n",
       "      <td>1.0</td>\n",
       "      <td>16.0</td>\n",
       "      <td>105.99</td>\n",
       "      <td>0.007831</td>\n",
       "      <td>0.032775</td>\n",
       "      <td>106.405000</td>\n",
       "      <td>0.586899</td>\n",
       "      <td>1</td>\n",
       "      <td>17</td>\n",
       "      <td>106.378743</td>\n",
       "      <td>-0.003654</td>\n",
       "      <td>0.029121</td>\n",
       "      <td>106.184371</td>\n",
       "      <td>0.274883</td>\n",
       "    </tr>\n",
       "  </tbody>\n",
       "</table>\n",
       "</div>"
      ],
      "text/plain": [
       "            var1(t-10)  var2(t-10)  var3(t-10)  var4(t-10)  var5(t-10)  \\\n",
       "2015-01-13         1.0         3.0  106.843276    0.023275    0.023275   \n",
       "2015-01-14         1.0         4.0  105.498112    0.012751    0.036025   \n",
       "2015-01-15         1.0         5.0  106.250000   -0.007077    0.028949   \n",
       "2015-01-16         1.0         6.0  106.260000   -0.000094    0.028854   \n",
       "2015-01-17         1.0         7.0  107.750000   -0.013828    0.015026   \n",
       "\n",
       "            var6(t-10)  var7(t-10)  var1(t-9)  var2(t-9)   var3(t-9)  \\\n",
       "2015-01-13  108.086638    1.758379        1.0        4.0  105.498112   \n",
       "2015-01-14  106.170694    0.951174        1.0        5.0  106.250000   \n",
       "2015-01-15  105.874056    0.531665        1.0        6.0  106.260000   \n",
       "2015-01-16  106.255000    0.007071        1.0        7.0  107.750000   \n",
       "2015-01-17  107.005000    1.053589        1.0        8.0  111.890000   \n",
       "\n",
       "            var4(t-9)  var5(t-9)   var6(t-9)  var7(t-9)  var1(t-8)  var2(t-8)  \\\n",
       "2015-01-13   0.012751   0.036025  106.170694   0.951174        1.0        5.0   \n",
       "2015-01-14  -0.007077   0.028949  105.874056   0.531665        1.0        6.0   \n",
       "2015-01-15  -0.000094   0.028854  106.255000   0.007071        1.0        7.0   \n",
       "2015-01-16  -0.013828   0.015026  107.005000   1.053589        1.0        8.0   \n",
       "2015-01-17  -0.037001  -0.021975  109.820000   2.927422        1.0        9.0   \n",
       "\n",
       "            var3(t-8)  var4(t-8)  var5(t-8)   var6(t-8)  var7(t-8)  var1(t-7)  \\\n",
       "2015-01-13     106.25  -0.007077   0.028949  105.874056   0.531665        1.0   \n",
       "2015-01-14     106.26  -0.000094   0.028854  106.255000   0.007071        1.0   \n",
       "2015-01-15     107.75  -0.013828   0.015026  107.005000   1.053589        1.0   \n",
       "2015-01-16     111.89  -0.037001  -0.021975  109.820000   2.927422        1.0   \n",
       "2015-01-17     112.01  -0.001071  -0.023046  111.950000   0.084853        1.0   \n",
       "\n",
       "            var2(t-7)   var3(t-7)  var4(t-7)  var5(t-7)   var6(t-7)  \\\n",
       "2015-01-13        6.0  106.260000  -0.000094   0.028854  106.255000   \n",
       "2015-01-14        7.0  107.750000  -0.013828   0.015026  107.005000   \n",
       "2015-01-15        8.0  111.890000  -0.037001  -0.021975  109.820000   \n",
       "2015-01-16        9.0  112.010000  -0.001071  -0.023046  111.950000   \n",
       "2015-01-17       10.0  111.163075   0.007619  -0.015427  111.586537   \n",
       "\n",
       "            var7(t-7)  var1(t-6)  var2(t-6)   var3(t-6)  var4(t-6)  var5(t-6)  \\\n",
       "2015-01-13   0.007071        1.0        7.0  107.750000  -0.013828   0.015026   \n",
       "2015-01-14   1.053589        1.0        8.0  111.890000  -0.037001  -0.021975   \n",
       "2015-01-15   2.927422        1.0        9.0  112.010000  -0.001071  -0.023046   \n",
       "2015-01-16   0.084853        1.0       10.0  111.163075   0.007619  -0.015427   \n",
       "2015-01-17   0.598866        1.0       11.0  110.616473   0.004941  -0.010486   \n",
       "\n",
       "             var6(t-6)  var7(t-6)  var1(t-5)  var2(t-5)   var3(t-5)  \\\n",
       "2015-01-13  107.005000   1.053589        1.0        8.0  111.890000   \n",
       "2015-01-14  109.820000   2.927422        1.0        9.0  112.010000   \n",
       "2015-01-15  111.950000   0.084853        1.0       10.0  111.163075   \n",
       "2015-01-16  111.586537   0.598866        1.0       11.0  110.616473   \n",
       "2015-01-17  110.889774   0.386506        1.0       12.0  109.250000   \n",
       "\n",
       "            var4(t-5)  var5(t-5)   var6(t-5)  var7(t-5)  var1(t-4)  var2(t-4)  \\\n",
       "2015-01-13  -0.037001  -0.021975  109.820000   2.927422        1.0        9.0   \n",
       "2015-01-14  -0.001071  -0.023046  111.950000   0.084853        1.0       10.0   \n",
       "2015-01-15   0.007619  -0.015427  111.586537   0.598866        1.0       11.0   \n",
       "2015-01-16   0.004941  -0.010486  110.889774   0.386506        1.0       12.0   \n",
       "2015-01-17   0.012508   0.002022  109.933236   0.966242        1.0       13.0   \n",
       "\n",
       "             var3(t-4)  var4(t-4)  var5(t-4)   var6(t-4)  var7(t-4)  \\\n",
       "2015-01-13  112.010000  -0.001071  -0.023046  111.950000   0.084853   \n",
       "2015-01-14  111.163075   0.007619  -0.015427  111.586537   0.598866   \n",
       "2015-01-15  110.616473   0.004941  -0.010486  110.889774   0.386506   \n",
       "2015-01-16  109.250000   0.012508   0.002022  109.933236   0.966242   \n",
       "2015-01-17  110.220000  -0.008801  -0.006779  109.735000   0.685894   \n",
       "\n",
       "            var1(t-3)  var2(t-3)   var3(t-3)  var4(t-3)  var5(t-3)  \\\n",
       "2015-01-13        1.0       10.0  111.163075   0.007619  -0.015427   \n",
       "2015-01-14        1.0       11.0  110.616473   0.004941  -0.010486   \n",
       "2015-01-15        1.0       12.0  109.250000   0.012508   0.002022   \n",
       "2015-01-16        1.0       13.0  110.220000  -0.008801  -0.006779   \n",
       "2015-01-17        1.0       14.0  109.800000   0.003825  -0.002953   \n",
       "\n",
       "             var6(t-3)  var7(t-3)  var1(t-2)  var2(t-2)   var3(t-2)  \\\n",
       "2015-01-13  111.586537   0.598866        1.0       11.0  110.616473   \n",
       "2015-01-14  110.889774   0.386506        1.0       12.0  109.250000   \n",
       "2015-01-15  109.933236   0.966242        1.0       13.0  110.220000   \n",
       "2015-01-16  109.735000   0.685894        1.0       14.0  109.800000   \n",
       "2015-01-17  110.010000   0.296985        1.0       15.0  106.820000   \n",
       "\n",
       "            var4(t-2)  var5(t-2)   var6(t-2)  var7(t-2)  var1(t-1)  var2(t-1)  \\\n",
       "2015-01-13   0.004941  -0.010486  110.889774   0.386506        1.0       12.0   \n",
       "2015-01-14   0.012508   0.002022  109.933236   0.966242        1.0       13.0   \n",
       "2015-01-15  -0.008801  -0.006779  109.735000   0.685894        1.0       14.0   \n",
       "2015-01-16   0.003825  -0.002953  110.010000   0.296985        1.0       15.0   \n",
       "2015-01-17   0.027897   0.024944  108.310000   2.107178        1.0       16.0   \n",
       "\n",
       "            var3(t-1)  var4(t-1)  var5(t-1)   var6(t-1)  var7(t-1)  var1(t)  \\\n",
       "2015-01-13     109.25   0.012508   0.002022  109.933236   0.966242        1   \n",
       "2015-01-14     110.22  -0.008801  -0.006779  109.735000   0.685894        1   \n",
       "2015-01-15     109.80   0.003825  -0.002953  110.010000   0.296985        1   \n",
       "2015-01-16     106.82   0.027897   0.024944  108.310000   2.107178        1   \n",
       "2015-01-17     105.99   0.007831   0.032775  106.405000   0.586899        1   \n",
       "\n",
       "            var2(t)     var3(t)   var4(t)   var5(t)     var6(t)   var7(t)  \n",
       "2015-01-13       13  110.220000 -0.008801 -0.006779  109.735000  0.685894  \n",
       "2015-01-14       14  109.800000  0.003825 -0.002953  110.010000  0.296985  \n",
       "2015-01-15       15  106.820000  0.027897  0.024944  108.310000  2.107178  \n",
       "2015-01-16       16  105.990000  0.007831  0.032775  106.405000  0.586899  \n",
       "2015-01-17       17  106.378743 -0.003654  0.029121  106.184371  0.274883  "
      ]
     },
     "execution_count": 35,
     "metadata": {},
     "output_type": "execute_result"
    }
   ],
   "source": [
    "# frame as supervised learning with 10 windows value\n",
    "\n",
    "reframed = series_to_supervised(data_full, 10, 1)\n",
    "reframed.head(5)"
   ]
  },
  {
   "cell_type": "code",
   "execution_count": 36,
   "metadata": {},
   "outputs": [
    {
     "data": {
      "text/plain": [
       "[70, 71, 72, 73, 74, 75, 76]"
      ]
     },
     "execution_count": 36,
     "metadata": {},
     "output_type": "execute_result"
    }
   ],
   "source": [
    "list(range(len(reframed.columns))[-7:])"
   ]
  },
  {
   "cell_type": "code",
   "execution_count": 37,
   "metadata": {},
   "outputs": [],
   "source": [
    "# drop columns we don't want to predict (ie month, day, xb2 on day t) (except the Close price column)\n",
    "reframed.drop(reframed.columns[[70, 71, 73, 74, 75, 76]], axis=1, inplace=True)"
   ]
  },
  {
   "cell_type": "code",
   "execution_count": 38,
   "metadata": {},
   "outputs": [
    {
     "data": {
      "text/plain": [
       "(71,)"
      ]
     },
     "execution_count": 38,
     "metadata": {},
     "output_type": "execute_result"
    }
   ],
   "source": [
    "reframed.columns.shape"
   ]
  },
  {
   "cell_type": "code",
   "execution_count": 39,
   "metadata": {},
   "outputs": [],
   "source": [
    "######## Normalise the data ############\n",
    "\n",
    "from sklearn.preprocessing import MinMaxScaler\n",
    "scaler = MinMaxScaler(feature_range=(0, 1))\n",
    "scaled = scaler.fit_transform(reframed)\n",
    "values = scaled"
   ]
  },
  {
   "cell_type": "code",
   "execution_count": 40,
   "metadata": {},
   "outputs": [
    {
     "data": {
      "text/html": [
       "<div>\n",
       "<style scoped>\n",
       "    .dataframe tbody tr th:only-of-type {\n",
       "        vertical-align: middle;\n",
       "    }\n",
       "\n",
       "    .dataframe tbody tr th {\n",
       "        vertical-align: top;\n",
       "    }\n",
       "\n",
       "    .dataframe thead th {\n",
       "        text-align: right;\n",
       "    }\n",
       "</style>\n",
       "<table border=\"1\" class=\"dataframe\">\n",
       "  <thead>\n",
       "    <tr style=\"text-align: right;\">\n",
       "      <th></th>\n",
       "      <th>var1(t-10)</th>\n",
       "      <th>var2(t-10)</th>\n",
       "      <th>var3(t-10)</th>\n",
       "      <th>var4(t-10)</th>\n",
       "      <th>var5(t-10)</th>\n",
       "      <th>var6(t-10)</th>\n",
       "      <th>var7(t-10)</th>\n",
       "      <th>var1(t-9)</th>\n",
       "      <th>var2(t-9)</th>\n",
       "      <th>var3(t-9)</th>\n",
       "      <th>var4(t-9)</th>\n",
       "      <th>var5(t-9)</th>\n",
       "      <th>var6(t-9)</th>\n",
       "      <th>var7(t-9)</th>\n",
       "      <th>var1(t-8)</th>\n",
       "      <th>var2(t-8)</th>\n",
       "      <th>var3(t-8)</th>\n",
       "      <th>var4(t-8)</th>\n",
       "      <th>var5(t-8)</th>\n",
       "      <th>var6(t-8)</th>\n",
       "      <th>var7(t-8)</th>\n",
       "      <th>var1(t-7)</th>\n",
       "      <th>var2(t-7)</th>\n",
       "      <th>var3(t-7)</th>\n",
       "      <th>var4(t-7)</th>\n",
       "      <th>var5(t-7)</th>\n",
       "      <th>var6(t-7)</th>\n",
       "      <th>var7(t-7)</th>\n",
       "      <th>var1(t-6)</th>\n",
       "      <th>var2(t-6)</th>\n",
       "      <th>var3(t-6)</th>\n",
       "      <th>var4(t-6)</th>\n",
       "      <th>var5(t-6)</th>\n",
       "      <th>var6(t-6)</th>\n",
       "      <th>var7(t-6)</th>\n",
       "      <th>var1(t-5)</th>\n",
       "      <th>var2(t-5)</th>\n",
       "      <th>var3(t-5)</th>\n",
       "      <th>var4(t-5)</th>\n",
       "      <th>var5(t-5)</th>\n",
       "      <th>var6(t-5)</th>\n",
       "      <th>var7(t-5)</th>\n",
       "      <th>var1(t-4)</th>\n",
       "      <th>var2(t-4)</th>\n",
       "      <th>var3(t-4)</th>\n",
       "      <th>var4(t-4)</th>\n",
       "      <th>var5(t-4)</th>\n",
       "      <th>var6(t-4)</th>\n",
       "      <th>var7(t-4)</th>\n",
       "      <th>var1(t-3)</th>\n",
       "      <th>var2(t-3)</th>\n",
       "      <th>var3(t-3)</th>\n",
       "      <th>var4(t-3)</th>\n",
       "      <th>var5(t-3)</th>\n",
       "      <th>var6(t-3)</th>\n",
       "      <th>var7(t-3)</th>\n",
       "      <th>var1(t-2)</th>\n",
       "      <th>var2(t-2)</th>\n",
       "      <th>var3(t-2)</th>\n",
       "      <th>var4(t-2)</th>\n",
       "      <th>var5(t-2)</th>\n",
       "      <th>var6(t-2)</th>\n",
       "      <th>var7(t-2)</th>\n",
       "      <th>var1(t-1)</th>\n",
       "      <th>var2(t-1)</th>\n",
       "      <th>var3(t-1)</th>\n",
       "      <th>var4(t-1)</th>\n",
       "      <th>var5(t-1)</th>\n",
       "      <th>var6(t-1)</th>\n",
       "      <th>var7(t-1)</th>\n",
       "      <th>var3(t)</th>\n",
       "    </tr>\n",
       "  </thead>\n",
       "  <tbody>\n",
       "    <tr>\n",
       "      <th>2015-01-13</th>\n",
       "      <td>1.0</td>\n",
       "      <td>3.0</td>\n",
       "      <td>106.843276</td>\n",
       "      <td>0.023275</td>\n",
       "      <td>0.023275</td>\n",
       "      <td>108.086638</td>\n",
       "      <td>1.758379</td>\n",
       "      <td>1.0</td>\n",
       "      <td>4.0</td>\n",
       "      <td>105.498112</td>\n",
       "      <td>0.012751</td>\n",
       "      <td>0.036025</td>\n",
       "      <td>106.170694</td>\n",
       "      <td>0.951174</td>\n",
       "      <td>1.0</td>\n",
       "      <td>5.0</td>\n",
       "      <td>106.25</td>\n",
       "      <td>-0.007077</td>\n",
       "      <td>0.028949</td>\n",
       "      <td>105.874056</td>\n",
       "      <td>0.531665</td>\n",
       "      <td>1.0</td>\n",
       "      <td>6.0</td>\n",
       "      <td>106.26</td>\n",
       "      <td>-0.000094</td>\n",
       "      <td>0.028854</td>\n",
       "      <td>106.255</td>\n",
       "      <td>0.007071</td>\n",
       "      <td>1.0</td>\n",
       "      <td>7.0</td>\n",
       "      <td>107.75</td>\n",
       "      <td>-0.013828</td>\n",
       "      <td>0.015026</td>\n",
       "      <td>107.005</td>\n",
       "      <td>1.053589</td>\n",
       "      <td>1.0</td>\n",
       "      <td>8.0</td>\n",
       "      <td>111.89</td>\n",
       "      <td>-0.037001</td>\n",
       "      <td>-0.021975</td>\n",
       "      <td>109.82</td>\n",
       "      <td>2.927422</td>\n",
       "      <td>1.0</td>\n",
       "      <td>9.0</td>\n",
       "      <td>112.01</td>\n",
       "      <td>-0.001071</td>\n",
       "      <td>-0.023046</td>\n",
       "      <td>111.95</td>\n",
       "      <td>0.084853</td>\n",
       "      <td>1.0</td>\n",
       "      <td>10.0</td>\n",
       "      <td>111.163075</td>\n",
       "      <td>0.007619</td>\n",
       "      <td>-0.015427</td>\n",
       "      <td>111.586537</td>\n",
       "      <td>0.598866</td>\n",
       "      <td>1.0</td>\n",
       "      <td>11.0</td>\n",
       "      <td>110.616473</td>\n",
       "      <td>0.004941</td>\n",
       "      <td>-0.010486</td>\n",
       "      <td>110.889774</td>\n",
       "      <td>0.386506</td>\n",
       "      <td>1.0</td>\n",
       "      <td>12.0</td>\n",
       "      <td>109.25</td>\n",
       "      <td>0.012508</td>\n",
       "      <td>0.002022</td>\n",
       "      <td>109.933236</td>\n",
       "      <td>0.966242</td>\n",
       "      <td>110.22</td>\n",
       "    </tr>\n",
       "  </tbody>\n",
       "</table>\n",
       "</div>"
      ],
      "text/plain": [
       "            var1(t-10)  var2(t-10)  var3(t-10)  var4(t-10)  var5(t-10)  \\\n",
       "2015-01-13         1.0         3.0  106.843276    0.023275    0.023275   \n",
       "\n",
       "            var6(t-10)  var7(t-10)  var1(t-9)  var2(t-9)   var3(t-9)  \\\n",
       "2015-01-13  108.086638    1.758379        1.0        4.0  105.498112   \n",
       "\n",
       "            var4(t-9)  var5(t-9)   var6(t-9)  var7(t-9)  var1(t-8)  var2(t-8)  \\\n",
       "2015-01-13   0.012751   0.036025  106.170694   0.951174        1.0        5.0   \n",
       "\n",
       "            var3(t-8)  var4(t-8)  var5(t-8)   var6(t-8)  var7(t-8)  var1(t-7)  \\\n",
       "2015-01-13     106.25  -0.007077   0.028949  105.874056   0.531665        1.0   \n",
       "\n",
       "            var2(t-7)  var3(t-7)  var4(t-7)  var5(t-7)  var6(t-7)  var7(t-7)  \\\n",
       "2015-01-13        6.0     106.26  -0.000094   0.028854    106.255   0.007071   \n",
       "\n",
       "            var1(t-6)  var2(t-6)  var3(t-6)  var4(t-6)  var5(t-6)  var6(t-6)  \\\n",
       "2015-01-13        1.0        7.0     107.75  -0.013828   0.015026    107.005   \n",
       "\n",
       "            var7(t-6)  var1(t-5)  var2(t-5)  var3(t-5)  var4(t-5)  var5(t-5)  \\\n",
       "2015-01-13   1.053589        1.0        8.0     111.89  -0.037001  -0.021975   \n",
       "\n",
       "            var6(t-5)  var7(t-5)  var1(t-4)  var2(t-4)  var3(t-4)  var4(t-4)  \\\n",
       "2015-01-13     109.82   2.927422        1.0        9.0     112.01  -0.001071   \n",
       "\n",
       "            var5(t-4)  var6(t-4)  var7(t-4)  var1(t-3)  var2(t-3)   var3(t-3)  \\\n",
       "2015-01-13  -0.023046     111.95   0.084853        1.0       10.0  111.163075   \n",
       "\n",
       "            var4(t-3)  var5(t-3)   var6(t-3)  var7(t-3)  var1(t-2)  var2(t-2)  \\\n",
       "2015-01-13   0.007619  -0.015427  111.586537   0.598866        1.0       11.0   \n",
       "\n",
       "             var3(t-2)  var4(t-2)  var5(t-2)   var6(t-2)  var7(t-2)  \\\n",
       "2015-01-13  110.616473   0.004941  -0.010486  110.889774   0.386506   \n",
       "\n",
       "            var1(t-1)  var2(t-1)  var3(t-1)  var4(t-1)  var5(t-1)   var6(t-1)  \\\n",
       "2015-01-13        1.0       12.0     109.25   0.012508   0.002022  109.933236   \n",
       "\n",
       "            var7(t-1)  var3(t)  \n",
       "2015-01-13   0.966242   110.22  "
      ]
     },
     "execution_count": 40,
     "metadata": {},
     "output_type": "execute_result"
    }
   ],
   "source": [
    "reframed.head(1)"
   ]
  },
  {
   "cell_type": "code",
   "execution_count": 41,
   "metadata": {},
   "outputs": [
    {
     "data": {
      "text/plain": [
       "(1489, 71)"
      ]
     },
     "execution_count": 41,
     "metadata": {},
     "output_type": "execute_result"
    }
   ],
   "source": [
    "reframed.shape"
   ]
  },
  {
   "cell_type": "code",
   "execution_count": 42,
   "metadata": {},
   "outputs": [],
   "source": [
    "##### spliting the data to training and validation for lstm model\n",
    "\n",
    "n_train_days = 1200\n",
    "train = values[:n_train_days, :]\n",
    "test = values[n_train_days:, :]"
   ]
  },
  {
   "cell_type": "code",
   "execution_count": 43,
   "metadata": {},
   "outputs": [],
   "source": [
    "# split into input and outputs\n",
    "train_X_1, train_y_1 = train[:, :-1], train[:, -1]\n",
    "test_X_1, test_y_1 = test[:, :-1], test[:, -1]\n",
    "# reshape input to be 3D [samples, timesteps, features]\n",
    "train_X = train_X_1.reshape((train_X_1.shape[0], 1, train_X_1.shape[1]))\n",
    "test_X = test_X_1.reshape((test_X_1.shape[0], 1, test_X_1.shape[1]))"
   ]
  },
  {
   "cell_type": "code",
   "execution_count": 44,
   "metadata": {},
   "outputs": [
    {
     "name": "stderr",
     "output_type": "stream",
     "text": [
      "Using TensorFlow backend.\n"
     ]
    },
    {
     "data": {
      "text/plain": [
       "'2.0.0'"
      ]
     },
     "execution_count": 44,
     "metadata": {},
     "output_type": "execute_result"
    }
   ],
   "source": [
    "import tensorflow as tf\n",
    "import keras\n",
    "import numpy as np\n",
    "\n",
    "tf.__version__"
   ]
  },
  {
   "cell_type": "code",
   "execution_count": 45,
   "metadata": {},
   "outputs": [],
   "source": [
    "# design LSTM network\n",
    "model = tf.keras.Sequential()\n",
    "model.add(tf.keras.layers.LSTM(70, input_shape=(train_X.shape[1], train_X.shape[2])))\n",
    "model.add(tf.keras.layers.Dense(1))\n",
    "model.compile(loss='mae', optimizer='adam')"
   ]
  },
  {
   "cell_type": "code",
   "execution_count": 46,
   "metadata": {},
   "outputs": [
    {
     "name": "stdout",
     "output_type": "stream",
     "text": [
      "Train on 1200 samples, validate on 289 samples\n",
      "Epoch 1/10\n",
      "1200/1200 - 3s - loss: 0.1427 - val_loss: 0.1397\n",
      "Epoch 2/10\n",
      "1200/1200 - 0s - loss: 0.2682 - val_loss: 0.2117\n",
      "Epoch 3/10\n",
      "1200/1200 - 0s - loss: 0.0640 - val_loss: 0.0687\n",
      "Epoch 4/10\n",
      "1200/1200 - 0s - loss: 0.0570 - val_loss: 0.0691\n",
      "Epoch 5/10\n",
      "1200/1200 - 0s - loss: 0.1474 - val_loss: 0.1378\n",
      "Epoch 6/10\n",
      "1200/1200 - 0s - loss: 0.0434 - val_loss: 0.0751\n",
      "Epoch 7/10\n",
      "1200/1200 - 0s - loss: 0.0240 - val_loss: 0.0662\n",
      "Epoch 8/10\n",
      "1200/1200 - 0s - loss: 0.0691 - val_loss: 0.0630\n",
      "Epoch 9/10\n",
      "1200/1200 - 0s - loss: 0.0945 - val_loss: 0.0547\n",
      "Epoch 10/10\n",
      "1200/1200 - 0s - loss: 0.0310 - val_loss: 0.0658\n",
      "289\n"
     ]
    }
   ],
   "source": [
    "# fit network with 10 epochs\n",
    "\n",
    "history = model.fit(train_X, train_y_1, epochs=10, validation_data=(test_X, test_y_1), verbose=2,shuffle=False)\n",
    "## make a prediction\n",
    "yhat = model.predict(test_X)\n",
    "print(len(yhat))"
   ]
  },
  {
   "cell_type": "code",
   "execution_count": 47,
   "metadata": {},
   "outputs": [
    {
     "name": "stdout",
     "output_type": "stream",
     "text": [
      "(289, 1, 70)\n"
     ]
    },
    {
     "data": {
      "text/plain": [
       "(289, 70)"
      ]
     },
     "execution_count": 47,
     "metadata": {},
     "output_type": "execute_result"
    }
   ],
   "source": [
    "print(test_X.shape)\n",
    "test_X_2 = test_X.reshape((test_X.shape[0], test_X.shape[2]))\n",
    "test_X_2.shape"
   ]
  },
  {
   "cell_type": "code",
   "execution_count": 48,
   "metadata": {},
   "outputs": [],
   "source": [
    "# invert scaling for forecast\n",
    "inv_yhat = np.concatenate((test_X_2[:, 0:], yhat), axis=1)\n",
    "inv_yhat = scaler.inverse_transform(inv_yhat)\n",
    "inv_yhat = inv_yhat[:, -1]"
   ]
  },
  {
   "cell_type": "code",
   "execution_count": 49,
   "metadata": {},
   "outputs": [],
   "source": [
    "# invert scaling for actual\n",
    "test_y = test_y_1.reshape((len(test_y_1), 1))\n",
    "inv_y = np.concatenate((test_X_2[:, 0:], test_y), axis=1)\n",
    "inv_y = scaler.inverse_transform(inv_y)\n",
    "inv_y = inv_y[:, -1]"
   ]
  },
  {
   "cell_type": "code",
   "execution_count": 50,
   "metadata": {},
   "outputs": [],
   "source": [
    "import matplotlib.pyplot as plt"
   ]
  },
  {
   "cell_type": "code",
   "execution_count": 51,
   "metadata": {},
   "outputs": [
    {
     "data": {
      "image/png": "[encoded data removed]",
      "text/plain": [
       "<Figure size 432x288 with 1 Axes>"
      ]
     },
     "metadata": {
      "needs_background": "light"
     },
     "output_type": "display_data"
    }
   ],
   "source": [
    "\n",
    "# calculate RMSE\n",
    "rmse = np.sqrt(mean_squared_error(inv_y, inv_yhat))\n",
    "plt.figure()\n",
    "plt.plot(inv_y)\n",
    "plt.plot(inv_yhat)\n",
    "plt.show()"
   ]
  },
  {
   "cell_type": "code",
   "execution_count": 64,
   "metadata": {},
   "outputs": [
    {
     "name": "stdout",
     "output_type": "stream",
     "text": [
      "validation set rmse :  11.737441468048953\n"
     ]
    }
   ],
   "source": [
    "print('validation set rmse : ',rmse)"
   ]
  },
  {
   "cell_type": "code",
   "execution_count": 52,
   "metadata": {},
   "outputs": [],
   "source": [
    "def make_forecasts(model, n_batch, test, n_lag, n_seq):\n",
    "    forecasts = list()\n",
    "    for i in range(len(test)):\n",
    "        X, y = test[i, 0:((3*n_lag))], test[i, ((3*n_lag)):]\n",
    "        # make forecast\n",
    "        forecast = forecast_lstm(model, X, n_batch)\n",
    "        # store the forecast\n",
    "        forecasts.append(forecast)\n",
    "    return forecasts"
   ]
  },
  {
   "cell_type": "code",
   "execution_count": 53,
   "metadata": {},
   "outputs": [
    {
     "data": {
      "text/html": [
       "<div>\n",
       "<style scoped>\n",
       "    .dataframe tbody tr th:only-of-type {\n",
       "        vertical-align: middle;\n",
       "    }\n",
       "\n",
       "    .dataframe tbody tr th {\n",
       "        vertical-align: top;\n",
       "    }\n",
       "\n",
       "    .dataframe thead th {\n",
       "        text-align: right;\n",
       "    }\n",
       "</style>\n",
       "<table border=\"1\" class=\"dataframe\">\n",
       "  <thead>\n",
       "    <tr style=\"text-align: right;\">\n",
       "      <th></th>\n",
       "      <th>Close</th>\n",
       "    </tr>\n",
       "    <tr>\n",
       "      <th>Date</th>\n",
       "      <th></th>\n",
       "    </tr>\n",
       "  </thead>\n",
       "  <tbody>\n",
       "    <tr>\n",
       "      <th>2019-02-15</th>\n",
       "      <td>170.420000</td>\n",
       "    </tr>\n",
       "    <tr>\n",
       "      <th>2019-02-16</th>\n",
       "      <td>170.653447</td>\n",
       "    </tr>\n",
       "    <tr>\n",
       "      <th>2019-02-17</th>\n",
       "      <td>170.960863</td>\n",
       "    </tr>\n",
       "    <tr>\n",
       "      <th>2019-02-18</th>\n",
       "      <td>171.272740</td>\n",
       "    </tr>\n",
       "    <tr>\n",
       "      <th>2019-02-19</th>\n",
       "      <td>170.930000</td>\n",
       "    </tr>\n",
       "  </tbody>\n",
       "</table>\n",
       "</div>"
      ],
      "text/plain": [
       "                 Close\n",
       "Date                  \n",
       "2019-02-15  170.420000\n",
       "2019-02-16  170.653447\n",
       "2019-02-17  170.960863\n",
       "2019-02-18  171.272740\n",
       "2019-02-19  170.930000"
      ]
     },
     "execution_count": 53,
     "metadata": {},
     "output_type": "execute_result"
    }
   ],
   "source": [
    "df_test.head()"
   ]
  },
  {
   "cell_type": "code",
   "execution_count": 54,
   "metadata": {},
   "outputs": [],
   "source": [
    "df_dict = {}"
   ]
  },
  {
   "cell_type": "code",
   "execution_count": 55,
   "metadata": {},
   "outputs": [
    {
     "data": {
      "text/html": [
       "<div>\n",
       "<style scoped>\n",
       "    .dataframe tbody tr th:only-of-type {\n",
       "        vertical-align: middle;\n",
       "    }\n",
       "\n",
       "    .dataframe tbody tr th {\n",
       "        vertical-align: top;\n",
       "    }\n",
       "\n",
       "    .dataframe thead th {\n",
       "        text-align: right;\n",
       "    }\n",
       "</style>\n",
       "<table border=\"1\" class=\"dataframe\">\n",
       "  <thead>\n",
       "    <tr style=\"text-align: right;\">\n",
       "      <th></th>\n",
       "      <th>Close</th>\n",
       "    </tr>\n",
       "    <tr>\n",
       "      <th>Date</th>\n",
       "      <th></th>\n",
       "    </tr>\n",
       "  </thead>\n",
       "  <tbody>\n",
       "    <tr>\n",
       "      <th>2019-07-13</th>\n",
       "      <td>204.584099</td>\n",
       "    </tr>\n",
       "    <tr>\n",
       "      <th>2019-07-14</th>\n",
       "      <td>204.830835</td>\n",
       "    </tr>\n",
       "    <tr>\n",
       "      <th>2019-07-15</th>\n",
       "      <td>205.210000</td>\n",
       "    </tr>\n",
       "    <tr>\n",
       "      <th>2019-07-16</th>\n",
       "      <td>204.500000</td>\n",
       "    </tr>\n",
       "    <tr>\n",
       "      <th>2019-07-17</th>\n",
       "      <td>203.350000</td>\n",
       "    </tr>\n",
       "  </tbody>\n",
       "</table>\n",
       "</div>"
      ],
      "text/plain": [
       "                 Close\n",
       "Date                  \n",
       "2019-07-13  204.584099\n",
       "2019-07-14  204.830835\n",
       "2019-07-15  205.210000\n",
       "2019-07-16  204.500000\n",
       "2019-07-17  203.350000"
      ]
     },
     "execution_count": 55,
     "metadata": {},
     "output_type": "execute_result"
    }
   ],
   "source": [
    "data_test = df_test.tail(110).head(10)\n",
    "test_data_2 = data_test.copy()\n",
    "test_data_2.head()"
   ]
  },
  {
   "cell_type": "code",
   "execution_count": 56,
   "metadata": {},
   "outputs": [
    {
     "data": {
      "text/html": [
       "<div>\n",
       "<style scoped>\n",
       "    .dataframe tbody tr th:only-of-type {\n",
       "        vertical-align: middle;\n",
       "    }\n",
       "\n",
       "    .dataframe tbody tr th {\n",
       "        vertical-align: top;\n",
       "    }\n",
       "\n",
       "    .dataframe thead th {\n",
       "        text-align: right;\n",
       "    }\n",
       "</style>\n",
       "<table border=\"1\" class=\"dataframe\">\n",
       "  <thead>\n",
       "    <tr style=\"text-align: right;\">\n",
       "      <th></th>\n",
       "      <th>Date</th>\n",
       "      <th>Close</th>\n",
       "    </tr>\n",
       "  </thead>\n",
       "  <tbody>\n",
       "    <tr>\n",
       "      <th>0</th>\n",
       "      <td>2019-07-13</td>\n",
       "      <td>204.584099</td>\n",
       "    </tr>\n",
       "  </tbody>\n",
       "</table>\n",
       "</div>"
      ],
      "text/plain": [
       "        Date       Close\n",
       "0 2019-07-13  204.584099"
      ]
     },
     "execution_count": 56,
     "metadata": {},
     "output_type": "execute_result"
    }
   ],
   "source": [
    "test_data_2.reset_index(drop=False,inplace=True)\n",
    "test_data_2.head(1)"
   ]
  },
  {
   "cell_type": "code",
   "execution_count": 57,
   "metadata": {},
   "outputs": [],
   "source": [
    "from tqdm import tqdm_notebook as tqdm \n",
    "import warnings \n",
    "warnings.filterwarnings('ignore')"
   ]
  },
  {
   "cell_type": "code",
   "execution_count": 58,
   "metadata": {},
   "outputs": [
    {
     "data": {
      "application/vnd.jupyter.widget-view+json": {
       "model_id": "2aa729b49da847ed93876952291c6023",
       "version_major": 2,
       "version_minor": 0
      },
      "text/plain": [
       "HBox(children=(IntProgress(value=0), HTML(value='')))"
      ]
     },
     "metadata": {},
     "output_type": "display_data"
    },
    {
     "name": "stdout",
     "output_type": "stream",
     "text": [
      "\n"
     ]
    }
   ],
   "source": [
    "for i in tqdm(range(100)):\n",
    "    \n",
    "    test_data_2.reset_index(drop=True,inplace=True)\n",
    "    test_data_2['Date'] = pd.to_datetime(test_data_2['Date'])\n",
    "    \n",
    "    intial_time = str(test_data_2.Date.iloc[0])\n",
    "    test_data_2.index = test_data_2.Date\n",
    "    test_data_2.drop(['Date'],axis=1,inplace=True)\n",
    "\n",
    "    test_data_2 = test_data_2.fillna(method='ffill')\n",
    "    test_data_2 = test_data_2.fillna(method='bfill')\n",
    "    test_data_2['daily_return'] = test_data_2['Close'][:-1].values / test_data_2['Close'][1:] - 1\n",
    "    test_data_2['Cumulative'] = test_data_2['daily_return'].cumsum()\n",
    "    test_data_2['rolling_mean'] = test_data_2['Close'].rolling(2).mean()\n",
    "    test_data_2['rolling_stddev'] = test_data_2['Close'].rolling(2).std()\n",
    "    test_data_2.loc[intial_time].rolling_mean =0\n",
    "    test_data_2.loc[intial_time].rolling_stddev=0\n",
    "    test_data_2.loc[intial_time].daily_return=0\n",
    "    test_data_2.loc[intial_time].Cumulative=0\n",
    "\n",
    "    datadates = test_data_2.index.values\n",
    "    datamonths = pd.Series(data=[pd.to_datetime(x).month for x in datadates], index=datadates, name='month')\n",
    "    datadays = pd.Series([pd.to_datetime(x).day for x in datadates], index=datadates, name='day')\n",
    "    \n",
    "    time_1 = datamonths.to_frame().join(datadays.to_frame())\n",
    "    \n",
    "    test_data_full = time_1.join(test_data_2)\n",
    "    reframed_2 = series_to_supervised_test(test_data_full, 10, 0)\n",
    "\n",
    "    #print(reframed_2)\n",
    "    #reframed_2.drop(reframed_2.columns[[21,22,24,25,26,27]], axis=1, inplace=True)\n",
    "    reframed_2 = reframed.loc[:, reframed.columns != 'var3(t)'].append(reframed_2)\n",
    "    #print(reframed_2)\n",
    "    scaler = MinMaxScaler(feature_range=(0, 1))\n",
    "    scaled_2 = scaler.fit_transform(reframed_2)\n",
    "    #print(scaled_2)\n",
    "    scaled_2 = scaled_2[-1:,:]\n",
    "    scaled_3 = scaled_2[:,:-1]\n",
    "    forecasts = make_forecasts(model, 1, scaled_2, 30, 8)\n",
    "\n",
    "    #print(forecasts)\n",
    "    scaler = MinMaxScaler(feature_range=(0, 1))\n",
    "    scaled = scaler.fit_transform(reframed)\n",
    "    inv_yhat_2 = np.concatenate((scaled_2, forecasts), axis=1)\n",
    "    inv_yhat_2 = scaler.inverse_transform(inv_yhat_2)\n",
    "    inv_yhat_2 = inv_yhat_2[:, -1]\n",
    "\n",
    "    #act_val =test_data_2['Price'].values\n",
    "    #next_minute = datetime.date(datetime.now()+timedelta(days=1))\n",
    "    test_data_2.drop(['daily_return','Cumulative','rolling_mean','rolling_stddev'],axis=1,inplace=True)\n",
    "    test_data_2 = test_data_2.tail(9)\n",
    "    test_data_2 = test_data_2.reset_index()\n",
    "    next_minute = test_data_2.tail(1).Date + timedelta(days=1)\n",
    "    next_value = inv_yhat_2[0]\n",
    "\n",
    "    df_dict[next_minute.values[0]] = next_value\n",
    "    \n",
    "    test_data_2.loc[9] = [next_minute.values[0],next_value]\n",
    "    #print(str(next_minute.values[0]),' : ', next_value)"
   ]
  },
  {
   "cell_type": "code",
   "execution_count": 59,
   "metadata": {},
   "outputs": [
    {
     "data": {
      "text/plain": [
       "100"
      ]
     },
     "execution_count": 59,
     "metadata": {},
     "output_type": "execute_result"
    }
   ],
   "source": [
    "len(list(df_dict.values()))"
   ]
  },
  {
   "cell_type": "code",
   "execution_count": 60,
   "metadata": {},
   "outputs": [],
   "source": [
    "import matplotlib.pyplot as plt"
   ]
  },
  {
   "cell_type": "code",
   "execution_count": 78,
   "metadata": {},
   "outputs": [
    {
     "data": {
      "image/png": "[encoded data removed]",
      "text/plain": [
       "<Figure size 1080x504 with 1 Axes>"
      ]
     },
     "metadata": {
      "needs_background": "light"
     },
     "output_type": "display_data"
    }
   ],
   "source": [
    "import matplotlib.pyplot as plt\n",
    "fig, ax = plt.subplots(figsize=(15, 7))\n",
    "\n",
    "ax.plot_date(df_test.tail(100).index,list(df_dict.values()),'r-',label='predited')\n",
    "ax.xaxis.set_minor_locator(dates.MonthLocator())\n",
    "ax.xaxis.set_minor_formatter(dates.DateFormatter('%m'))\n",
    "ax.xaxis.grid(True, which=\"minor\")\n",
    "plt.title('Predicted Stock Value with LSTM model')\n",
    "plt.xlabel('Date')\n",
    "plt.ylabel('Close value')\n",
    "plt.show()"
   ]
  },
  {
   "cell_type": "code",
   "execution_count": 79,
   "metadata": {},
   "outputs": [
    {
     "data": {
      "image/png": "[encoded data removed]",
      "text/plain": [
       "<Figure size 1080x504 with 1 Axes>"
      ]
     },
     "metadata": {
      "needs_background": "light"
     },
     "output_type": "display_data"
    }
   ],
   "source": [
    "import matplotlib.pyplot as plt\n",
    "fig, ax = plt.subplots(figsize=(15, 7))\n",
    "\n",
    "ax.plot_date(df_test.tail(100).index,df_test.tail(100)['Close'],'r-',label='original',color='blue')\n",
    "ax.xaxis.set_minor_locator(dates.MonthLocator())\n",
    "ax.xaxis.set_minor_formatter(dates.DateFormatter('%m'))\n",
    "ax.xaxis.grid(True, which=\"minor\")\n",
    "\n",
    "plt.title('Original Stock Value')\n",
    "plt.xlabel('Date')\n",
    "plt.ylabel('Close value')\n",
    "\n",
    "plt.show()"
   ]
  },
  {
   "cell_type": "code",
   "execution_count": 111,
   "metadata": {},
   "outputs": [
    {
     "name": "stdout",
     "output_type": "stream",
     "text": [
      "RMSE test value with LSTM:  5818.542114685997\n"
     ]
    }
   ],
   "source": [
    "print('RMSE test value with LSTM: ',mean_squared_error(df_test.tail(100)['Close'].values.tolist(),list(df_dict.values())))"
   ]
  },
  {
   "cell_type": "markdown",
   "metadata": {},
   "source": [
    "## Using Prophet library"
   ]
  },
  {
   "cell_type": "code",
   "execution_count": 87,
   "metadata": {},
   "outputs": [],
   "source": [
    "df_pr = df_t.copy()"
   ]
  },
  {
   "cell_type": "code",
   "execution_count": 88,
   "metadata": {},
   "outputs": [],
   "source": [
    "### make dataframe with respect to Prophet\n",
    "\n",
    "df_pr['ds'] = df_pr.index\n",
    "#log transform the ‘Close’ variable to convert non-stationary data to stationary.\n",
    "df_pr['y'] = (df_pr['Close'])"
   ]
  },
  {
   "cell_type": "code",
   "execution_count": 89,
   "metadata": {},
   "outputs": [
    {
     "data": {
      "text/html": [
       "<div>\n",
       "<style scoped>\n",
       "    .dataframe tbody tr th:only-of-type {\n",
       "        vertical-align: middle;\n",
       "    }\n",
       "\n",
       "    .dataframe tbody tr th {\n",
       "        vertical-align: top;\n",
       "    }\n",
       "\n",
       "    .dataframe thead th {\n",
       "        text-align: right;\n",
       "    }\n",
       "</style>\n",
       "<table border=\"1\" class=\"dataframe\">\n",
       "  <thead>\n",
       "    <tr style=\"text-align: right;\">\n",
       "      <th></th>\n",
       "      <th>Close</th>\n",
       "      <th>ds</th>\n",
       "      <th>y</th>\n",
       "    </tr>\n",
       "    <tr>\n",
       "      <th>Date</th>\n",
       "      <th></th>\n",
       "      <th></th>\n",
       "      <th></th>\n",
       "    </tr>\n",
       "  </thead>\n",
       "  <tbody>\n",
       "    <tr>\n",
       "      <th>2015-01-02</th>\n",
       "      <td>109.330000</td>\n",
       "      <td>2015-01-02</td>\n",
       "      <td>109.330000</td>\n",
       "    </tr>\n",
       "    <tr>\n",
       "      <th>2015-01-03</th>\n",
       "      <td>106.843276</td>\n",
       "      <td>2015-01-03</td>\n",
       "      <td>106.843276</td>\n",
       "    </tr>\n",
       "    <tr>\n",
       "      <th>2015-01-04</th>\n",
       "      <td>105.498112</td>\n",
       "      <td>2015-01-04</td>\n",
       "      <td>105.498112</td>\n",
       "    </tr>\n",
       "    <tr>\n",
       "      <th>2015-01-05</th>\n",
       "      <td>106.250000</td>\n",
       "      <td>2015-01-05</td>\n",
       "      <td>106.250000</td>\n",
       "    </tr>\n",
       "    <tr>\n",
       "      <th>2015-01-06</th>\n",
       "      <td>106.260000</td>\n",
       "      <td>2015-01-06</td>\n",
       "      <td>106.260000</td>\n",
       "    </tr>\n",
       "  </tbody>\n",
       "</table>\n",
       "</div>"
      ],
      "text/plain": [
       "                 Close         ds           y\n",
       "Date                                         \n",
       "2015-01-02  109.330000 2015-01-02  109.330000\n",
       "2015-01-03  106.843276 2015-01-03  106.843276\n",
       "2015-01-04  105.498112 2015-01-04  105.498112\n",
       "2015-01-05  106.250000 2015-01-05  106.250000\n",
       "2015-01-06  106.260000 2015-01-06  106.260000"
      ]
     },
     "execution_count": 89,
     "metadata": {},
     "output_type": "execute_result"
    }
   ],
   "source": [
    "df_pr.head()"
   ]
  },
  {
   "cell_type": "code",
   "execution_count": 90,
   "metadata": {},
   "outputs": [],
   "source": [
    "df_pr.reset_index(inplace=True,drop=True)\n",
    "df_pr.drop(['Close'],axis=1,inplace=True)"
   ]
  },
  {
   "cell_type": "code",
   "execution_count": 91,
   "metadata": {},
   "outputs": [
    {
     "data": {
      "text/html": [
       "<div>\n",
       "<style scoped>\n",
       "    .dataframe tbody tr th:only-of-type {\n",
       "        vertical-align: middle;\n",
       "    }\n",
       "\n",
       "    .dataframe tbody tr th {\n",
       "        vertical-align: top;\n",
       "    }\n",
       "\n",
       "    .dataframe thead th {\n",
       "        text-align: right;\n",
       "    }\n",
       "</style>\n",
       "<table border=\"1\" class=\"dataframe\">\n",
       "  <thead>\n",
       "    <tr style=\"text-align: right;\">\n",
       "      <th></th>\n",
       "      <th>ds</th>\n",
       "      <th>y</th>\n",
       "    </tr>\n",
       "  </thead>\n",
       "  <tbody>\n",
       "    <tr>\n",
       "      <th>0</th>\n",
       "      <td>2015-01-02</td>\n",
       "      <td>109.330000</td>\n",
       "    </tr>\n",
       "    <tr>\n",
       "      <th>1</th>\n",
       "      <td>2015-01-03</td>\n",
       "      <td>106.843276</td>\n",
       "    </tr>\n",
       "  </tbody>\n",
       "</table>\n",
       "</div>"
      ],
      "text/plain": [
       "          ds           y\n",
       "0 2015-01-02  109.330000\n",
       "1 2015-01-03  106.843276"
      ]
     },
     "execution_count": 91,
     "metadata": {},
     "output_type": "execute_result"
    }
   ],
   "source": [
    "df_pr.head(2)"
   ]
  },
  {
   "cell_type": "code",
   "execution_count": 92,
   "metadata": {},
   "outputs": [],
   "source": [
    "##### Importing library\n",
    "\n",
    "from fbprophet import Prophet"
   ]
  },
  {
   "cell_type": "code",
   "execution_count": 93,
   "metadata": {},
   "outputs": [
    {
     "data": {
      "text/plain": [
       "(1500, 2)"
      ]
     },
     "execution_count": 93,
     "metadata": {},
     "output_type": "execute_result"
    }
   ],
   "source": [
    "df_pr.shape"
   ]
  },
  {
   "cell_type": "code",
   "execution_count": 94,
   "metadata": {},
   "outputs": [
    {
     "data": {
      "text/plain": [
       "<fbprophet.forecaster.Prophet at 0x13f214090>"
      ]
     },
     "execution_count": 94,
     "metadata": {},
     "output_type": "execute_result"
    }
   ],
   "source": [
    "# Making with daily seasonaly True\n",
    "\n",
    "model = Prophet(daily_seasonality=True)\n",
    "model.fit(df_pr)"
   ]
  },
  {
   "cell_type": "code",
   "execution_count": 95,
   "metadata": {},
   "outputs": [
    {
     "data": {
      "text/plain": [
       "(258, 1)"
      ]
     },
     "execution_count": 95,
     "metadata": {},
     "output_type": "execute_result"
    }
   ],
   "source": [
    "df_test.shape"
   ]
  },
  {
   "cell_type": "code",
   "execution_count": 96,
   "metadata": {},
   "outputs": [
    {
     "data": {
      "text/html": [
       "<div>\n",
       "<style scoped>\n",
       "    .dataframe tbody tr th:only-of-type {\n",
       "        vertical-align: middle;\n",
       "    }\n",
       "\n",
       "    .dataframe tbody tr th {\n",
       "        vertical-align: top;\n",
       "    }\n",
       "\n",
       "    .dataframe thead th {\n",
       "        text-align: right;\n",
       "    }\n",
       "</style>\n",
       "<table border=\"1\" class=\"dataframe\">\n",
       "  <thead>\n",
       "    <tr style=\"text-align: right;\">\n",
       "      <th></th>\n",
       "      <th>Close</th>\n",
       "    </tr>\n",
       "    <tr>\n",
       "      <th>Date</th>\n",
       "      <th></th>\n",
       "    </tr>\n",
       "  </thead>\n",
       "  <tbody>\n",
       "    <tr>\n",
       "      <th>2019-02-15</th>\n",
       "      <td>170.420000</td>\n",
       "    </tr>\n",
       "    <tr>\n",
       "      <th>2019-02-16</th>\n",
       "      <td>170.653447</td>\n",
       "    </tr>\n",
       "    <tr>\n",
       "      <th>2019-02-17</th>\n",
       "      <td>170.960863</td>\n",
       "    </tr>\n",
       "    <tr>\n",
       "      <th>2019-02-18</th>\n",
       "      <td>171.272740</td>\n",
       "    </tr>\n",
       "    <tr>\n",
       "      <th>2019-02-19</th>\n",
       "      <td>170.930000</td>\n",
       "    </tr>\n",
       "  </tbody>\n",
       "</table>\n",
       "</div>"
      ],
      "text/plain": [
       "                 Close\n",
       "Date                  \n",
       "2019-02-15  170.420000\n",
       "2019-02-16  170.653447\n",
       "2019-02-17  170.960863\n",
       "2019-02-18  171.272740\n",
       "2019-02-19  170.930000"
      ]
     },
     "execution_count": 96,
     "metadata": {},
     "output_type": "execute_result"
    }
   ],
   "source": [
    "df_test.head()"
   ]
  },
  {
   "cell_type": "code",
   "execution_count": 97,
   "metadata": {},
   "outputs": [
    {
     "name": "stdout",
     "output_type": "stream",
     "text": [
      "             ds        yhat  yhat_lower  yhat_upper\n",
      "1753 2019-10-21  197.567416   97.177234  291.137344\n",
      "1754 2019-10-22  197.468550   96.255620  288.891903\n",
      "1755 2019-10-23  197.440945   97.055698  291.628855\n",
      "1756 2019-10-24  197.084561   94.925365  291.621524\n",
      "1757 2019-10-25  196.629950   93.510215  290.188984\n"
     ]
    }
   ],
   "source": [
    "####### Making prediction for next 100 days\n",
    "\n",
    "num_days = df_test.shape[0]\n",
    "    \n",
    "future = model.make_future_dataframe(periods=num_days)\n",
    "forecast = model.predict(future)\n",
    "\n",
    "print (forecast[['ds', 'yhat', 'yhat_lower', 'yhat_upper']].tail())"
   ]
  },
  {
   "cell_type": "code",
   "execution_count": 98,
   "metadata": {},
   "outputs": [
    {
     "data": {
      "image/png": "[encoded data removed]",
      "text/plain": [
       "<Figure size 720x432 with 1 Axes>"
      ]
     },
     "metadata": {},
     "output_type": "display_data"
    }
   ],
   "source": [
    "####### Plot with variation of prediction(with upper limit and lower limit)\n",
    "\n",
    "forecast_plot = model.plot(forecast)\n",
    "forecast_plot.show()"
   ]
  },
  {
   "cell_type": "code",
   "execution_count": 99,
   "metadata": {},
   "outputs": [
    {
     "data": {
      "text/html": [
       "<div>\n",
       "<style scoped>\n",
       "    .dataframe tbody tr th:only-of-type {\n",
       "        vertical-align: middle;\n",
       "    }\n",
       "\n",
       "    .dataframe tbody tr th {\n",
       "        vertical-align: top;\n",
       "    }\n",
       "\n",
       "    .dataframe thead th {\n",
       "        text-align: right;\n",
       "    }\n",
       "</style>\n",
       "<table border=\"1\" class=\"dataframe\">\n",
       "  <thead>\n",
       "    <tr style=\"text-align: right;\">\n",
       "      <th></th>\n",
       "      <th>ds</th>\n",
       "      <th>trend</th>\n",
       "      <th>yhat_lower</th>\n",
       "      <th>yhat_upper</th>\n",
       "      <th>trend_lower</th>\n",
       "      <th>trend_upper</th>\n",
       "      <th>additive_terms</th>\n",
       "      <th>additive_terms_lower</th>\n",
       "      <th>additive_terms_upper</th>\n",
       "      <th>daily</th>\n",
       "      <th>daily_lower</th>\n",
       "      <th>daily_upper</th>\n",
       "      <th>weekly</th>\n",
       "      <th>weekly_lower</th>\n",
       "      <th>weekly_upper</th>\n",
       "      <th>yearly</th>\n",
       "      <th>yearly_lower</th>\n",
       "      <th>yearly_upper</th>\n",
       "      <th>multiplicative_terms</th>\n",
       "      <th>multiplicative_terms_lower</th>\n",
       "      <th>multiplicative_terms_upper</th>\n",
       "      <th>yhat</th>\n",
       "    </tr>\n",
       "  </thead>\n",
       "  <tbody>\n",
       "    <tr>\n",
       "      <th>0</th>\n",
       "      <td>2015-01-02</td>\n",
       "      <td>112.626375</td>\n",
       "      <td>108.651629</td>\n",
       "      <td>123.551374</td>\n",
       "      <td>112.626375</td>\n",
       "      <td>112.626375</td>\n",
       "      <td>3.497880</td>\n",
       "      <td>3.497880</td>\n",
       "      <td>3.497880</td>\n",
       "      <td>24.501276</td>\n",
       "      <td>24.501276</td>\n",
       "      <td>24.501276</td>\n",
       "      <td>-0.074539</td>\n",
       "      <td>-0.074539</td>\n",
       "      <td>-0.074539</td>\n",
       "      <td>-20.928857</td>\n",
       "      <td>-20.928857</td>\n",
       "      <td>-20.928857</td>\n",
       "      <td>0.0</td>\n",
       "      <td>0.0</td>\n",
       "      <td>0.0</td>\n",
       "      <td>116.124256</td>\n",
       "    </tr>\n",
       "    <tr>\n",
       "      <th>1</th>\n",
       "      <td>2015-01-03</td>\n",
       "      <td>112.720572</td>\n",
       "      <td>108.760629</td>\n",
       "      <td>123.267173</td>\n",
       "      <td>112.720572</td>\n",
       "      <td>112.720572</td>\n",
       "      <td>3.026032</td>\n",
       "      <td>3.026032</td>\n",
       "      <td>3.026032</td>\n",
       "      <td>24.501276</td>\n",
       "      <td>24.501276</td>\n",
       "      <td>24.501276</td>\n",
       "      <td>-0.091087</td>\n",
       "      <td>-0.091087</td>\n",
       "      <td>-0.091087</td>\n",
       "      <td>-21.384156</td>\n",
       "      <td>-21.384156</td>\n",
       "      <td>-21.384156</td>\n",
       "      <td>0.0</td>\n",
       "      <td>0.0</td>\n",
       "      <td>0.0</td>\n",
       "      <td>115.746605</td>\n",
       "    </tr>\n",
       "    <tr>\n",
       "      <th>2</th>\n",
       "      <td>2015-01-04</td>\n",
       "      <td>112.814769</td>\n",
       "      <td>108.388309</td>\n",
       "      <td>122.642078</td>\n",
       "      <td>112.814769</td>\n",
       "      <td>112.814769</td>\n",
       "      <td>2.541709</td>\n",
       "      <td>2.541709</td>\n",
       "      <td>2.541709</td>\n",
       "      <td>24.501276</td>\n",
       "      <td>24.501276</td>\n",
       "      <td>24.501276</td>\n",
       "      <td>-0.164828</td>\n",
       "      <td>-0.164828</td>\n",
       "      <td>-0.164828</td>\n",
       "      <td>-21.794740</td>\n",
       "      <td>-21.794740</td>\n",
       "      <td>-21.794740</td>\n",
       "      <td>0.0</td>\n",
       "      <td>0.0</td>\n",
       "      <td>0.0</td>\n",
       "      <td>115.356478</td>\n",
       "    </tr>\n",
       "    <tr>\n",
       "      <th>3</th>\n",
       "      <td>2015-01-05</td>\n",
       "      <td>112.908966</td>\n",
       "      <td>107.675139</td>\n",
       "      <td>122.437579</td>\n",
       "      <td>112.908966</td>\n",
       "      <td>112.908966</td>\n",
       "      <td>2.282019</td>\n",
       "      <td>2.282019</td>\n",
       "      <td>2.282019</td>\n",
       "      <td>24.501276</td>\n",
       "      <td>24.501276</td>\n",
       "      <td>24.501276</td>\n",
       "      <td>-0.058603</td>\n",
       "      <td>-0.058603</td>\n",
       "      <td>-0.058603</td>\n",
       "      <td>-22.160655</td>\n",
       "      <td>-22.160655</td>\n",
       "      <td>-22.160655</td>\n",
       "      <td>0.0</td>\n",
       "      <td>0.0</td>\n",
       "      <td>0.0</td>\n",
       "      <td>115.190985</td>\n",
       "    </tr>\n",
       "    <tr>\n",
       "      <th>4</th>\n",
       "      <td>2015-01-06</td>\n",
       "      <td>113.003164</td>\n",
       "      <td>108.074896</td>\n",
       "      <td>122.937112</td>\n",
       "      <td>113.003164</td>\n",
       "      <td>113.003164</td>\n",
       "      <td>2.060582</td>\n",
       "      <td>2.060582</td>\n",
       "      <td>2.060582</td>\n",
       "      <td>24.501276</td>\n",
       "      <td>24.501276</td>\n",
       "      <td>24.501276</td>\n",
       "      <td>0.041936</td>\n",
       "      <td>0.041936</td>\n",
       "      <td>0.041936</td>\n",
       "      <td>-22.482630</td>\n",
       "      <td>-22.482630</td>\n",
       "      <td>-22.482630</td>\n",
       "      <td>0.0</td>\n",
       "      <td>0.0</td>\n",
       "      <td>0.0</td>\n",
       "      <td>115.063746</td>\n",
       "    </tr>\n",
       "  </tbody>\n",
       "</table>\n",
       "</div>"
      ],
      "text/plain": [
       "          ds       trend  yhat_lower  yhat_upper  trend_lower  trend_upper  \\\n",
       "0 2015-01-02  112.626375  108.651629  123.551374   112.626375   112.626375   \n",
       "1 2015-01-03  112.720572  108.760629  123.267173   112.720572   112.720572   \n",
       "2 2015-01-04  112.814769  108.388309  122.642078   112.814769   112.814769   \n",
       "3 2015-01-05  112.908966  107.675139  122.437579   112.908966   112.908966   \n",
       "4 2015-01-06  113.003164  108.074896  122.937112   113.003164   113.003164   \n",
       "\n",
       "   additive_terms  additive_terms_lower  additive_terms_upper      daily  \\\n",
       "0        3.497880              3.497880              3.497880  24.501276   \n",
       "1        3.026032              3.026032              3.026032  24.501276   \n",
       "2        2.541709              2.541709              2.541709  24.501276   \n",
       "3        2.282019              2.282019              2.282019  24.501276   \n",
       "4        2.060582              2.060582              2.060582  24.501276   \n",
       "\n",
       "   daily_lower  daily_upper    weekly  weekly_lower  weekly_upper     yearly  \\\n",
       "0    24.501276    24.501276 -0.074539     -0.074539     -0.074539 -20.928857   \n",
       "1    24.501276    24.501276 -0.091087     -0.091087     -0.091087 -21.384156   \n",
       "2    24.501276    24.501276 -0.164828     -0.164828     -0.164828 -21.794740   \n",
       "3    24.501276    24.501276 -0.058603     -0.058603     -0.058603 -22.160655   \n",
       "4    24.501276    24.501276  0.041936      0.041936      0.041936 -22.482630   \n",
       "\n",
       "   yearly_lower  yearly_upper  multiplicative_terms  \\\n",
       "0    -20.928857    -20.928857                   0.0   \n",
       "1    -21.384156    -21.384156                   0.0   \n",
       "2    -21.794740    -21.794740                   0.0   \n",
       "3    -22.160655    -22.160655                   0.0   \n",
       "4    -22.482630    -22.482630                   0.0   \n",
       "\n",
       "   multiplicative_terms_lower  multiplicative_terms_upper        yhat  \n",
       "0                         0.0                         0.0  116.124256  \n",
       "1                         0.0                         0.0  115.746605  \n",
       "2                         0.0                         0.0  115.356478  \n",
       "3                         0.0                         0.0  115.190985  \n",
       "4                         0.0                         0.0  115.063746  "
      ]
     },
     "execution_count": 99,
     "metadata": {},
     "output_type": "execute_result"
    }
   ],
   "source": [
    "forecast.head()"
   ]
  },
  {
   "cell_type": "code",
   "execution_count": 100,
   "metadata": {},
   "outputs": [
    {
     "data": {
      "text/plain": [
       "1500    159.465060\n",
       "1501    159.816826\n",
       "1502    160.186754\n",
       "1503    160.667999\n",
       "1504    160.861572\n",
       "           ...    \n",
       "1753    197.567416\n",
       "1754    197.468550\n",
       "1755    197.440945\n",
       "1756    197.084561\n",
       "1757    196.629950\n",
       "Name: yhat, Length: 258, dtype: float64"
      ]
     },
     "execution_count": 100,
     "metadata": {},
     "output_type": "execute_result"
    }
   ],
   "source": [
    "forecast.iloc[1500:]['yhat']"
   ]
  },
  {
   "cell_type": "code",
   "execution_count": 109,
   "metadata": {},
   "outputs": [
    {
     "data": {
      "image/png": "[encoded data removed]",
      "text/plain": [
       "<Figure size 1080x504 with 1 Axes>"
      ]
     },
     "metadata": {
      "needs_background": "light"
     },
     "output_type": "display_data"
    }
   ],
   "source": [
    "import matplotlib.pyplot as plt\n",
    "fig, ax = plt.subplots(figsize=(15, 7))\n",
    "\n",
    "ax.plot_date(df_test.index,df_test['Close'],'r-',label='original',color='blue')\n",
    "ax.xaxis.set_minor_locator(dates.MonthLocator())\n",
    "ax.xaxis.set_minor_formatter(dates.DateFormatter('%m'))\n",
    "ax.xaxis.grid(True, which=\"minor\")\n",
    "\n",
    "plt.title('Original Stock Value')\n",
    "plt.xlabel('Date')\n",
    "plt.ylabel('Close value')\n",
    "\n",
    "plt.show()\n"
   ]
  },
  {
   "cell_type": "code",
   "execution_count": 106,
   "metadata": {},
   "outputs": [
    {
     "data": {
      "image/png": "[encoded data removed]",
      "text/plain": [
       "<Figure size 1080x504 with 1 Axes>"
      ]
     },
     "metadata": {
      "needs_background": "light"
     },
     "output_type": "display_data"
    }
   ],
   "source": [
    "##plt.plot(list(range(258)),forecast.iloc[1500:]['yhat'],label='predicted')\n",
    "#plt.show()\n",
    "\n",
    "import matplotlib.pyplot as plt\n",
    "fig, ax = plt.subplots(figsize=(15, 7))\n",
    "\n",
    "ax.plot_date(forecast.iloc[1500:]['ds'],forecast.iloc[1500:]['yhat'],'r-',label='predited')\n",
    "ax.xaxis.set_minor_locator(dates.MonthLocator())\n",
    "ax.xaxis.set_minor_formatter(dates.DateFormatter('%m'))\n",
    "ax.xaxis.grid(True, which=\"minor\")\n",
    "plt.title('Predicted Stock Value with prophets Additive model')\n",
    "plt.xlabel('Date')\n",
    "plt.ylabel('Close value')\n",
    "plt.show()"
   ]
  },
  {
   "cell_type": "code",
   "execution_count": 110,
   "metadata": {},
   "outputs": [
    {
     "name": "stdout",
     "output_type": "stream",
     "text": [
      "RMSE value on test set with Prophet :  552.9824255758182\n"
     ]
    }
   ],
   "source": [
    "print('RMSE value on test set with Prophet : ',mean_squared_error(df_test['Close'],forecast.iloc[1500:]['yhat']))"
   ]
  },
  {
   "cell_type": "code",
   "execution_count": null,
   "metadata": {},
   "outputs": [],
   "source": []
  },
  {
   "cell_type": "markdown",
   "metadata": {},
   "source": [
    "## Arima"
   ]
  },
  {
   "cell_type": "code",
   "execution_count": 112,
   "metadata": {},
   "outputs": [],
   "source": [
    "from statsmodels.tsa.arima_model import ARIMA\n",
    "from sklearn.metrics import mean_squared_error"
   ]
  },
  {
   "cell_type": "code",
   "execution_count": 113,
   "metadata": {},
   "outputs": [
    {
     "data": {
      "application/vnd.jupyter.widget-view+json": {
       "model_id": "4abf56f7c4af437fbae979b526e1a503",
       "version_major": 2,
       "version_minor": 0
      },
      "text/plain": [
       "HBox(children=(IntProgress(value=0, max=258), HTML(value='')))"
      ]
     },
     "metadata": {},
     "output_type": "display_data"
    },
    {
     "name": "stdout",
     "output_type": "stream",
     "text": [
      "\n"
     ]
    }
   ],
   "source": [
    "## making arima model with history data\n",
    "\n",
    "history = df_t['Close'].values.tolist()\n",
    "test = df_test['Close'].values.tolist()\n",
    "predictions = list()\n",
    "\n",
    "\n",
    "for t in tqdm(range((df_test.shape[0]))):\n",
    "    model = ARIMA(history, order=(5,1,0))\n",
    "    model_fit = model.fit(disp=0)\n",
    "    output = model_fit.forecast()\n",
    "    yhat = output[0]\n",
    "    predictions.append(yhat)\n",
    "    obs = test[t]\n",
    "    history.append(yhat)\n",
    "    #print('predicted=%f, expected=%f' % (yhat, obs))\n",
    "error = mean_squared_error(test, predictions)"
   ]
  },
  {
   "cell_type": "code",
   "execution_count": 116,
   "metadata": {},
   "outputs": [
    {
     "name": "stdout",
     "output_type": "stream",
     "text": [
      "RMSE value on test set with Arima model :  886.35543451713\n"
     ]
    }
   ],
   "source": [
    "print('RMSE value on test set with Arima model : ',error)"
   ]
  },
  {
   "cell_type": "code",
   "execution_count": 120,
   "metadata": {},
   "outputs": [
    {
     "data": {
      "image/png": "[encoded data removed]",
      "text/plain": [
       "<Figure size 720x576 with 1 Axes>"
      ]
     },
     "metadata": {
      "needs_background": "light"
     },
     "output_type": "display_data"
    }
   ],
   "source": [
    "#plt.plot(list(range(258)),test,label='original')\n",
    "#plt.plot(list(range(258)),predictions,label='prediction')\n",
    "\n",
    "plt.figure(figsize=(10,8))\n",
    "plt.plot_date(df_test.index,test,'r-',label='original',color='blue')\n",
    "plt.plot_date(df_test.index,predictions,'r-',label='Prediction',color='red')\n",
    "plt.title('Predicted Stock Value with Arima model')\n",
    "plt.xlabel('Date')\n",
    "plt.ylabel('Close value')\n",
    "ax.xaxis.set_minor_locator(dates.MonthLocator())\n",
    "ax.xaxis.set_minor_formatter(dates.DateFormatter('%m'))\n",
    "plt.legend()\n",
    "plt.show()"
   ]
  },
  {
   "cell_type": "markdown",
   "metadata": {},
   "source": [
    "#### Reference \n",
    "\n",
    "* https://facebook.github.io/prophet/docs/quick_start.html\n",
    "* https://research.fb.com/prophet-forecasting-at-scale/\n",
    "* https://en.wikipedia.org/wiki/Autoregressive_integrated_moving_average\n",
    "* https://www.statsmodels.org/\n",
    "* https://www.tensorflow.org/tutorials/structured_data/time_series\n"
   ]
  },
  {
   "cell_type": "code",
   "execution_count": null,
   "metadata": {},
   "outputs": [],
   "source": []
  }
 ],
 "metadata": {
  "kernelspec": {
   "display_name": "Python 3",
   "language": "python",
   "name": "python3"
  },
  "language_info": {
   "codemirror_mode": {
    "name": "ipython",
    "version": 3
   },
   "file_extension": ".py",
   "mimetype": "text/x-python",
   "name": "python",
   "nbconvert_exporter": "python",
   "pygments_lexer": "ipython3",
   "version": "3.7.4"
  }
 },
 "nbformat": 4,
 "nbformat_minor": 1
}
